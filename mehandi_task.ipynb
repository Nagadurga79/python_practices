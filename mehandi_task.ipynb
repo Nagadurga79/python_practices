{
 "cells": [
  {
   "cell_type": "code",
   "execution_count": 6,
   "id": "334fcf76",
   "metadata": {},
   "outputs": [],
   "source": [
    "event1={\"mehandi_type\":\"naturalhenna\",\n",
    "       \"design_type\":\"bridalmehandidesign\",\n",
    "       \"model_type\":\"fullhand\",\n",
    "       \"mehandi_colour\":\"black\"}"
   ]
  },
  {
   "cell_type": "code",
   "execution_count": 7,
   "id": "559abc86",
   "metadata": {},
   "outputs": [],
   "source": [
    "def mehandi_design(details):\n",
    "    if event1[\"mehandi_type\"]==\"naturalhenna\":\n",
    "        if event1[\"design_type\"]==\"bridalmehandidesign\":\n",
    "            if event1[\"model_type\"]==\"fullhand\":\n",
    "                if event1[\"mehandi_colour\"]==\"black\":\n",
    "                    amount=1000\n",
    "                elif event1[\"mehandi_colour\"]==\"red\":\n",
    "                    amount=2000\n",
    "                else:\n",
    "                    amount=0\n",
    "            elif event1[\"model_type\"]==\"halfhand\":\n",
    "                if event1[\"mehandi_colour\"]==\"black\":\n",
    "                    amount=1000\n",
    "                elif event1[\"mehandi_colour\"]==\"red\":\n",
    "                    amount=2000\n",
    "                else:\n",
    "                    amount=0\n",
    "            else:\n",
    "                event1[\"model_type\"]==\"notavailable\"\n",
    "        elif event1[\"design_type\"]==\"noramlmehandidesign\":\n",
    "            if event1[\"model_type\"]==\"fullhand\":\n",
    "                if event1[\"mehandi_colour\"]==\"black\":\n",
    "                    amount=1000\n",
    "                elif event1[\"mehandi_colour\"]==\"red\":\n",
    "                    amount=2000\n",
    "                else:\n",
    "                    amount=0\n",
    "            elif event1[\"model_type\"]==\"halfhand\":\n",
    "                if event1[\"mehandi_colour\"]==\"black\":\n",
    "                    amount=1000\n",
    "                elif event1[\"mehandi_colour\"]==\"red\":\n",
    "                    amount=2000\n",
    "                else:\n",
    "                    amount=0\n",
    "            else:\n",
    "                event1[\"model_type\"]==\"notavailable\"\n",
    "        else:\n",
    "            event1[\"design_type\"]==\"notavailable\"\n",
    "    else:\n",
    "        event1[\"mehandi_type\"]==\"notavailable\"\n",
    "        \n",
    "    return {\"mehandi_type\":\"naturalhenna\",\n",
    "       \"design_type\":\"bridalmehandidesign\",\n",
    "       \"model_type\":\"fullhand\",\n",
    "       \"mehandi_colour\":\"black\",\n",
    "        \"amount\":amount}  \n",
    "                "
   ]
  },
  {
   "cell_type": "code",
   "execution_count": 8,
   "id": "4a6c52b3",
   "metadata": {},
   "outputs": [
    {
     "data": {
      "text/plain": [
       "{'mehandi_type': 'naturalhenna',\n",
       " 'design_type': 'bridalmehandidesign',\n",
       " 'model_type': 'fullhand',\n",
       " 'mehandi_colour': 'black',\n",
       " 'amount': 1000}"
      ]
     },
     "execution_count": 8,
     "metadata": {},
     "output_type": "execute_result"
    }
   ],
   "source": [
    "mehandi_design(event1)"
   ]
  },
  {
   "cell_type": "code",
   "execution_count": null,
   "id": "03b3e002",
   "metadata": {},
   "outputs": [],
   "source": []
  },
  {
   "cell_type": "code",
   "execution_count": null,
   "id": "a507167e",
   "metadata": {},
   "outputs": [],
   "source": []
  },
  {
   "cell_type": "code",
   "execution_count": null,
   "id": "3cde2035",
   "metadata": {},
   "outputs": [],
   "source": []
  }
 ],
 "metadata": {
  "kernelspec": {
   "display_name": "Python 3 (ipykernel)",
   "language": "python",
   "name": "python3"
  },
  "language_info": {
   "codemirror_mode": {
    "name": "ipython",
    "version": 3
   },
   "file_extension": ".py",
   "mimetype": "text/x-python",
   "name": "python",
   "nbconvert_exporter": "python",
   "pygments_lexer": "ipython3",
   "version": "3.10.9"
  }
 },
 "nbformat": 4,
 "nbformat_minor": 5
}
