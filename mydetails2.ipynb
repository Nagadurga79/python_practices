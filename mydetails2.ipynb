{
 "cells": [
  {
   "cell_type": "code",
   "execution_count": 1,
   "id": "15ce3b6d",
   "metadata": {},
   "outputs": [],
   "source": [
    "name='nagadurga'"
   ]
  },
  {
   "cell_type": "code",
   "execution_count": 3,
   "id": "50ceeeb3",
   "metadata": {},
   "outputs": [
    {
     "name": "stdout",
     "output_type": "stream",
     "text": [
      "my name is nagadurga\n"
     ]
    }
   ],
   "source": [
    "print(\"my name is\",name)"
   ]
  },
  {
   "cell_type": "code",
   "execution_count": 4,
   "id": "636a4911",
   "metadata": {},
   "outputs": [
    {
     "name": "stdout",
     "output_type": "stream",
     "text": [
      "my age 22\n"
     ]
    }
   ],
   "source": [
    "age=22\n",
    "print(\"my age\",age)"
   ]
  },
  {
   "cell_type": "code",
   "execution_count": 5,
   "id": "95f6eb47",
   "metadata": {},
   "outputs": [
    {
     "name": "stdout",
     "output_type": "stream",
     "text": [
      "my qualification bsc,mecs\n"
     ]
    }
   ],
   "source": [
    "qualification=\"bsc,mecs\"\n",
    "print(\"my qualification\",qualification)"
   ]
  },
  {
   "cell_type": "code",
   "execution_count": 6,
   "id": "892f8192",
   "metadata": {},
   "outputs": [
    {
     "name": "stdout",
     "output_type": "stream",
     "text": [
      "location gilakaladindi,machilipatnam\n"
     ]
    }
   ],
   "source": [
    "location=\"gilakaladindi,machilipatnam\"\n",
    "print('location',location)"
   ]
  },
  {
   "cell_type": "code",
   "execution_count": 7,
   "id": "8b8b1444",
   "metadata": {},
   "outputs": [
    {
     "name": "stdout",
     "output_type": "stream",
     "text": [
      "my hobbies listining music,watching tv\n"
     ]
    }
   ],
   "source": [
    "hobbies=\"listining music,watching tv\"\n",
    "print('my hobbies',hobbies)"
   ]
  },
  {
   "cell_type": "code",
   "execution_count": 8,
   "id": "c2ec6524",
   "metadata": {},
   "outputs": [
    {
     "name": "stdout",
     "output_type": "stream",
     "text": [
      "gender female\n"
     ]
    }
   ],
   "source": [
    "gender='female'\n",
    "print('gender',gender)"
   ]
  },
  {
   "cell_type": "code",
   "execution_count": null,
   "id": "dd74fe22",
   "metadata": {},
   "outputs": [],
   "source": [
    "bestfriendsnames='ayesha,vani,anusha,anitha,divya'\n",
    "print('')"
   ]
  },
  {
   "cell_type": "code",
   "execution_count": null,
   "id": "28d80523",
   "metadata": {},
   "outputs": [],
   "source": []
  },
  {
   "cell_type": "code",
   "execution_count": null,
   "id": "64b7b0b9",
   "metadata": {},
   "outputs": [],
   "source": []
  }
 ],
 "metadata": {
  "kernelspec": {
   "display_name": "Python 3 (ipykernel)",
   "language": "python",
   "name": "python3"
  },
  "language_info": {
   "codemirror_mode": {
    "name": "ipython",
    "version": 3
   },
   "file_extension": ".py",
   "mimetype": "text/x-python",
   "name": "python",
   "nbconvert_exporter": "python",
   "pygments_lexer": "ipython3",
   "version": "3.10.9"
  }
 },
 "nbformat": 4,
 "nbformat_minor": 5
}
