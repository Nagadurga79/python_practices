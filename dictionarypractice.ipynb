{
 "cells": [
  {
   "cell_type": "code",
   "execution_count": 38,
   "id": "d63c181b",
   "metadata": {},
   "outputs": [
    {
     "name": "stdout",
     "output_type": "stream",
     "text": [
      "{'name': 'nagadurga', 'name1': 'sravani'}\n"
     ]
    }
   ],
   "source": [
    "dictt={\"name\" : 'nagadurga',\"name1\" : 'sravani'}\n",
    "print(dictt)"
   ]
  },
  {
   "cell_type": "code",
   "execution_count": 1,
   "id": "cb26730f",
   "metadata": {},
   "outputs": [
    {
     "name": "stdout",
     "output_type": "stream",
     "text": [
      "{'family': ['baburao,dhanalakshmi,srinivas,nagadurga'], 'family2': ['yedukondalu,kumari,sravani']}\n"
     ]
    }
   ],
   "source": [
    "dictt={\"family\" : ['baburao,dhanalakshmi,srinivas,nagadurga'],\"family2\" : ['yedukondalu,kumari,sravani']}\n",
    "print(dictt)"
   ]
  },
  {
   "cell_type": "code",
   "execution_count": 2,
   "id": "dd21bb97",
   "metadata": {},
   "outputs": [
    {
     "data": {
      "text/plain": [
       "dict_keys(['family', 'family2'])"
      ]
     },
     "execution_count": 2,
     "metadata": {},
     "output_type": "execute_result"
    }
   ],
   "source": [
    "dictt.keys()"
   ]
  },
  {
   "cell_type": "code",
   "execution_count": 39,
   "id": "138cc0d3",
   "metadata": {},
   "outputs": [
    {
     "data": {
      "text/plain": [
       "dict_keys(['name', 'name1'])"
      ]
     },
     "execution_count": 39,
     "metadata": {},
     "output_type": "execute_result"
    }
   ],
   "source": [
    "dictt.keys()"
   ]
  },
  {
   "cell_type": "code",
   "execution_count": 53,
   "id": "d7255dba",
   "metadata": {},
   "outputs": [
    {
     "data": {
      "text/plain": [
       "2"
      ]
     },
     "execution_count": 53,
     "metadata": {},
     "output_type": "execute_result"
    }
   ],
   "source": [
    "dictt={'a':2,'b':3,'c':4,'d':5,'e':6,'f':7}\n",
    "dictt['a']"
   ]
  },
  {
   "cell_type": "code",
   "execution_count": 8,
   "id": "2bc9c982",
   "metadata": {},
   "outputs": [
    {
     "data": {
      "text/plain": [
       "5"
      ]
     },
     "execution_count": 8,
     "metadata": {},
     "output_type": "execute_result"
    }
   ],
   "source": [
    "dictt={'a':[1,2,3,4],'b':[5,6,7,8],'c':[9,10,11,12]}\n",
    "dictt['b'][0:2]\n",
    "dictt['b'][0]"
   ]
  },
  {
   "cell_type": "code",
   "execution_count": 69,
   "id": "c5c0155e",
   "metadata": {},
   "outputs": [
    {
     "data": {
      "text/plain": [
       "([1, 2, 3], [5, 6, 7], [9, 10, 11])"
      ]
     },
     "execution_count": 69,
     "metadata": {},
     "output_type": "execute_result"
    }
   ],
   "source": [
    "dictt['a'][0:3],dictt['b'][0:3],dictt['c'][0:3]"
   ]
  },
  {
   "cell_type": "code",
   "execution_count": 7,
   "id": "360bef19",
   "metadata": {},
   "outputs": [
    {
     "data": {
      "text/plain": [
       "[2, 3, 4, 5, 6, 7, 8]"
      ]
     },
     "execution_count": 7,
     "metadata": {},
     "output_type": "execute_result"
    }
   ],
   "source": [
    "dictt={1:[2,3,4,5,6,7,8],2:[9,10,11,12,13,14,15],3:[16,17,18,19,20,21,22],}\n",
    "dictt[1][0:]\n"
   ]
  },
  {
   "cell_type": "code",
   "execution_count": 10,
   "id": "63ccf49e",
   "metadata": {},
   "outputs": [
    {
     "data": {
      "text/plain": [
       "[9, 10, 11, 12, 13, 14]"
      ]
     },
     "execution_count": 10,
     "metadata": {},
     "output_type": "execute_result"
    }
   ],
   "source": [
    "dictt[2][:-1]"
   ]
  },
  {
   "cell_type": "code",
   "execution_count": 2,
   "id": "fefe4b05",
   "metadata": {},
   "outputs": [
    {
     "name": "stdout",
     "output_type": "stream",
     "text": [
      "{'name': 'alekhya', 'name2': 'divya'}\n"
     ]
    }
   ],
   "source": [
    "dictt={'name':'alekhya','name2':'divya'}\n",
    "print(dictt)"
   ]
  },
  {
   "cell_type": "code",
   "execution_count": 3,
   "id": "b88a7d64",
   "metadata": {},
   "outputs": [
    {
     "data": {
      "text/plain": [
       "dict_keys(['name', 'name2'])"
      ]
     },
     "execution_count": 3,
     "metadata": {},
     "output_type": "execute_result"
    }
   ],
   "source": [
    "dictt.keys()"
   ]
  },
  {
   "cell_type": "code",
   "execution_count": 10,
   "id": "06f4a0ff",
   "metadata": {},
   "outputs": [
    {
     "data": {
      "text/plain": [
       "(['jan', 'feb', 'mar', 'apr'],\n",
       " ['may', 'jun', 'jul', 'aug'],\n",
       " ['sep', 'oct', 'nov', 'dec'])"
      ]
     },
     "execution_count": 10,
     "metadata": {},
     "output_type": "execute_result"
    }
   ],
   "source": [
    "dictt={'months':['jan','feb','mar','apr'],'months2':['may','jun','jul','aug'],'months3':['sep','oct','nov','dec']}\n",
    "dictt['months'],dictt['months2'],dictt['months3']"
   ]
  },
  {
   "cell_type": "code",
   "execution_count": 11,
   "id": "229db1c2",
   "metadata": {},
   "outputs": [
    {
     "data": {
      "text/plain": [
       "'jan'"
      ]
     },
     "execution_count": 11,
     "metadata": {},
     "output_type": "execute_result"
    }
   ],
   "source": [
    "dictt['months'][0]"
   ]
  },
  {
   "cell_type": "code",
   "execution_count": 14,
   "id": "a066bdcf",
   "metadata": {},
   "outputs": [
    {
     "data": {
      "text/plain": [
       "['feb', 'mar', 'apr']"
      ]
     },
     "execution_count": 14,
     "metadata": {},
     "output_type": "execute_result"
    }
   ],
   "source": [
    "dictt['months'][1:]"
   ]
  },
  {
   "cell_type": "code",
   "execution_count": 2,
   "id": "1cbcbaa6",
   "metadata": {},
   "outputs": [],
   "source": [
    "family_members={\"family_members\":[\"baburao\",\"dahanalakshmi\",\"srinivas\",\"nagadurga\",\"srinivas\"]}"
   ]
  },
  {
   "cell_type": "code",
   "execution_count": 3,
   "id": "c3255703",
   "metadata": {},
   "outputs": [
    {
     "data": {
      "text/plain": [
       "{'family_members': ['baburao',\n",
       "  'dahanalakshmi',\n",
       "  'srinivas',\n",
       "  'nagadurga',\n",
       "  'srinivas']}"
      ]
     },
     "execution_count": 3,
     "metadata": {},
     "output_type": "execute_result"
    }
   ],
   "source": [
    "family_members"
   ]
  },
  {
   "cell_type": "code",
   "execution_count": 4,
   "id": "f6bda5ae",
   "metadata": {},
   "outputs": [],
   "source": [
    "family={\"family_members\":[\"baburao\",\"dahanalakshmi\",\"srinivas\",\"nagadurga\",\"srinivas\"]}"
   ]
  },
  {
   "cell_type": "code",
   "execution_count": 5,
   "id": "417834c2",
   "metadata": {},
   "outputs": [
    {
     "data": {
      "text/plain": [
       "{'family_members': ['baburao',\n",
       "  'dahanalakshmi',\n",
       "  'srinivas',\n",
       "  'nagadurga',\n",
       "  'srinivas']}"
      ]
     },
     "execution_count": 5,
     "metadata": {},
     "output_type": "execute_result"
    }
   ],
   "source": [
    "family"
   ]
  },
  {
   "cell_type": "code",
   "execution_count": 8,
   "id": "c11cd344",
   "metadata": {},
   "outputs": [],
   "source": [
    "family[\"family_members\"][4]=\"sravani\""
   ]
  },
  {
   "cell_type": "code",
   "execution_count": 9,
   "id": "a0830fcb",
   "metadata": {},
   "outputs": [
    {
     "data": {
      "text/plain": [
       "{'family_members': ['baburao',\n",
       "  'dahanalakshmi',\n",
       "  'srinivas',\n",
       "  'nagadurga',\n",
       "  'sravani']}"
      ]
     },
     "execution_count": 9,
     "metadata": {},
     "output_type": "execute_result"
    }
   ],
   "source": [
    "family"
   ]
  },
  {
   "cell_type": "code",
   "execution_count": 12,
   "id": "bb7b63ed",
   "metadata": {},
   "outputs": [
    {
     "data": {
      "text/plain": [
       "['nagadurga', 'sravani']"
      ]
     },
     "execution_count": 12,
     "metadata": {},
     "output_type": "execute_result"
    }
   ],
   "source": [
    "family[\"family_members\"][3:]"
   ]
  },
  {
   "cell_type": "code",
   "execution_count": 13,
   "id": "8f2864a2",
   "metadata": {},
   "outputs": [],
   "source": [
    "family={\"family_members\":[\"baburao\",\"dahanalakshmi\",\"srinivas\",\"nagadurga\",\"srinivas\"],\"family2\":[\"yedukondalu\",\"kumari\",\"subbarao\",\"durga\"]}"
   ]
  },
  {
   "cell_type": "code",
   "execution_count": 14,
   "id": "8d9a8316",
   "metadata": {},
   "outputs": [
    {
     "data": {
      "text/plain": [
       "{'family_members': ['baburao',\n",
       "  'dahanalakshmi',\n",
       "  'srinivas',\n",
       "  'nagadurga',\n",
       "  'srinivas'],\n",
       " 'family2': ['yedukondalu', 'kumari', 'subbarao', 'durga']}"
      ]
     },
     "execution_count": 14,
     "metadata": {},
     "output_type": "execute_result"
    }
   ],
   "source": [
    "family"
   ]
  },
  {
   "cell_type": "code",
   "execution_count": 18,
   "id": "ec5c2930",
   "metadata": {},
   "outputs": [
    {
     "data": {
      "text/plain": [
       "'baburao'"
      ]
     },
     "execution_count": 18,
     "metadata": {},
     "output_type": "execute_result"
    }
   ],
   "source": [
    "family[\"family_members\"][0]"
   ]
  },
  {
   "cell_type": "code",
   "execution_count": null,
   "id": "83696a69",
   "metadata": {},
   "outputs": [],
   "source": []
  },
  {
   "cell_type": "code",
   "execution_count": null,
   "id": "724ab3b5",
   "metadata": {},
   "outputs": [],
   "source": []
  },
  {
   "cell_type": "code",
   "execution_count": null,
   "id": "e7528f9d",
   "metadata": {},
   "outputs": [],
   "source": []
  },
  {
   "cell_type": "code",
   "execution_count": null,
   "id": "5c6be90a",
   "metadata": {},
   "outputs": [],
   "source": []
  },
  {
   "cell_type": "code",
   "execution_count": null,
   "id": "bc63befc",
   "metadata": {},
   "outputs": [],
   "source": []
  },
  {
   "cell_type": "code",
   "execution_count": null,
   "id": "d1bab6b7",
   "metadata": {},
   "outputs": [],
   "source": []
  },
  {
   "cell_type": "code",
   "execution_count": null,
   "id": "2500c2d9",
   "metadata": {},
   "outputs": [],
   "source": []
  },
  {
   "cell_type": "code",
   "execution_count": null,
   "id": "5fb62049",
   "metadata": {},
   "outputs": [],
   "source": []
  },
  {
   "cell_type": "code",
   "execution_count": null,
   "id": "88a6681b",
   "metadata": {},
   "outputs": [],
   "source": []
  },
  {
   "cell_type": "code",
   "execution_count": null,
   "id": "fc9604d6",
   "metadata": {},
   "outputs": [],
   "source": []
  },
  {
   "cell_type": "code",
   "execution_count": null,
   "id": "af4da4d7",
   "metadata": {},
   "outputs": [],
   "source": []
  },
  {
   "cell_type": "code",
   "execution_count": null,
   "id": "7db374ba",
   "metadata": {},
   "outputs": [],
   "source": []
  },
  {
   "cell_type": "code",
   "execution_count": null,
   "id": "e8adedbb",
   "metadata": {},
   "outputs": [],
   "source": []
  },
  {
   "cell_type": "code",
   "execution_count": null,
   "id": "eadeb193",
   "metadata": {},
   "outputs": [],
   "source": []
  },
  {
   "cell_type": "code",
   "execution_count": null,
   "id": "c4c537e3",
   "metadata": {},
   "outputs": [],
   "source": []
  },
  {
   "cell_type": "code",
   "execution_count": null,
   "id": "34c1d17b",
   "metadata": {},
   "outputs": [],
   "source": []
  },
  {
   "cell_type": "code",
   "execution_count": null,
   "id": "a3afcb1f",
   "metadata": {},
   "outputs": [],
   "source": []
  },
  {
   "cell_type": "code",
   "execution_count": null,
   "id": "ad2f9b4e",
   "metadata": {},
   "outputs": [],
   "source": []
  }
 ],
 "metadata": {
  "kernelspec": {
   "display_name": "Python 3 (ipykernel)",
   "language": "python",
   "name": "python3"
  },
  "language_info": {
   "codemirror_mode": {
    "name": "ipython",
    "version": 3
   },
   "file_extension": ".py",
   "mimetype": "text/x-python",
   "name": "python",
   "nbconvert_exporter": "python",
   "pygments_lexer": "ipython3",
   "version": "3.10.9"
  }
 },
 "nbformat": 4,
 "nbformat_minor": 5
}
