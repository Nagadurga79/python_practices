{
 "cells": [
  {
   "cell_type": "code",
   "execution_count": null,
   "id": "89c8ec77",
   "metadata": {},
   "outputs": [],
   "source": [
    "medb_opportunity(step1)\n",
    "for remaining opportunity step2a\n",
    "not in (member_current,dod_claim_source)\n",
    "elig_flag=N"
   ]
  },
  {
   "cell_type": "code",
   "execution_count": null,
   "id": "ed48d99c",
   "metadata": {},
   "outputs": [],
   "source": []
  },
  {
   "cell_type": "code",
   "execution_count": null,
   "id": "1c786ebc",
   "metadata": {},
   "outputs": [],
   "source": [
    "member_curret----filters----------\n",
    "dod_member_current-----filters----"
   ]
  },
  {
   "cell_type": "code",
   "execution_count": null,
   "id": "57e0a5ab",
   "metadata": {},
   "outputs": [],
   "source": [
    "medb_opportunity AND APPEND MEDB_MEMCURR_PATGRP ----------------merge\n",
    "elig_flag=N"
   ]
  }
 ],
 "metadata": {
  "kernelspec": {
   "display_name": "Python 3 (ipykernel)",
   "language": "python",
   "name": "python3"
  },
  "language_info": {
   "codemirror_mode": {
    "name": "ipython",
    "version": 3
   },
   "file_extension": ".py",
   "mimetype": "text/x-python",
   "name": "python",
   "nbconvert_exporter": "python",
   "pygments_lexer": "ipython3",
   "version": "3.10.9"
  }
 },
 "nbformat": 4,
 "nbformat_minor": 5
}
