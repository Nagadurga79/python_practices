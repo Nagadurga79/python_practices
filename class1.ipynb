{
 "cells": [
  {
   "cell_type": "code",
   "execution_count": 1,
   "id": "1539b48c",
   "metadata": {},
   "outputs": [],
   "source": [
    "name='nagadurga'"
   ]
  },
  {
   "cell_type": "code",
   "execution_count": 2,
   "id": "1db4380d",
   "metadata": {},
   "outputs": [
    {
     "name": "stdout",
     "output_type": "stream",
     "text": [
      "my name is nagadurga\n"
     ]
    }
   ],
   "source": [
    "print(\"my name is\",name)"
   ]
  },
  {
   "cell_type": "code",
   "execution_count": 3,
   "id": "8fa23f7f",
   "metadata": {},
   "outputs": [
    {
     "name": "stdout",
     "output_type": "stream",
     "text": [
      "my age 22\n"
     ]
    }
   ],
   "source": [
    "age=22\n",
    "print(\"my age\",age)"
   ]
  },
  {
   "cell_type": "code",
   "execution_count": 4,
   "id": "01f8a2a6",
   "metadata": {},
   "outputs": [
    {
     "name": "stdout",
     "output_type": "stream",
     "text": [
      "my qualification bsc,mecs\n"
     ]
    }
   ],
   "source": [
    "qualification=\"bsc,mecs\"\n",
    "print(\"my qualification\",qualification)"
   ]
  },
  {
   "cell_type": "code",
   "execution_count": 5,
   "id": "f74dfb7a",
   "metadata": {},
   "outputs": [
    {
     "name": "stdout",
     "output_type": "stream",
     "text": [
      "location gilakaladindi,machilipatnam\n"
     ]
    }
   ],
   "source": [
    "location=\"gilakaladindi,machilipatnam\"\n",
    "print('location',location)"
   ]
  },
  {
   "cell_type": "code",
   "execution_count": 6,
   "id": "9b84eca4",
   "metadata": {},
   "outputs": [
    {
     "name": "stdout",
     "output_type": "stream",
     "text": [
      "my hobbies listining music,watching tv\n"
     ]
    }
   ],
   "source": [
    "hobbies=\"listining music,watching tv\"\n",
    "print('my hobbies',hobbies)"
   ]
  },
  {
   "cell_type": "code",
   "execution_count": 7,
   "id": "2687e225",
   "metadata": {},
   "outputs": [
    {
     "name": "stdout",
     "output_type": "stream",
     "text": [
      "gender female\n"
     ]
    }
   ],
   "source": [
    "gender='female'\n",
    "print('gender',gender)"
   ]
  },
  {
   "cell_type": "code",
   "execution_count": 8,
   "id": "a2dae888",
   "metadata": {},
   "outputs": [
    {
     "name": "stdout",
     "output_type": "stream",
     "text": [
      "my best friends names ayesha,vani,anusha,anitha,divya\n"
     ]
    }
   ],
   "source": [
    "bestfriendsnames='ayesha,vani,anusha,anitha,divya'\n",
    "print('my best friends names',bestfriendsnames)"
   ]
  },
  {
   "cell_type": "code",
   "execution_count": null,
   "id": "d4a44431",
   "metadata": {},
   "outputs": [],
   "source": []
  },
  {
   "cell_type": "code",
   "execution_count": null,
   "id": "5144a577",
   "metadata": {},
   "outputs": [],
   "source": []
  }
 ],
 "metadata": {
  "kernelspec": {
   "display_name": "Python 3 (ipykernel)",
   "language": "python",
   "name": "python3"
  },
  "language_info": {
   "codemirror_mode": {
    "name": "ipython",
    "version": 3
   },
   "file_extension": ".py",
   "mimetype": "text/x-python",
   "name": "python",
   "nbconvert_exporter": "python",
   "pygments_lexer": "ipython3",
   "version": "3.10.9"
  }
 },
 "nbformat": 4,
 "nbformat_minor": 5
}
