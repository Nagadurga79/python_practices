{
 "cells": [
  {
   "cell_type": "code",
   "execution_count": 9,
   "id": "bde6581a",
   "metadata": {},
   "outputs": [],
   "source": [
    "import json\n",
    "\n",
    "event={\"item\":\"bangles\",\"size\":2.2,\"bangle_type\":\"metal\",\"location\":\"machilipatnam\"}\n",
    "def lambda_handler(event, context):\n",
    "    \n",
    "    if event[\"item\"]==\"bangles\":\n",
    "        if event[\"size\"]==2.2:\n",
    "            if event[\"bangle_type\"]==\"roldgold\":\n",
    "                amount=2500\n",
    "            elif event[\"bangle_type\"]==\"metal\":\n",
    "                amount=1500\n",
    "            else:\n",
    "                amount=\"notavailable\"\n",
    "        elif event[\"size\"]==2.4:\n",
    "            if event[\"bangle_type\"]==\"roldgold\":\n",
    "                amount=3000\n",
    "            elif event[\"bangle_type\"]==\"metal\":\n",
    "                amount=2000\n",
    "            else:\n",
    "                amount=\"notavailable\"\n",
    "        else:\n",
    "            amount=\"notavailable\"\n",
    "    else:\n",
    "        amount=\"notavailable\"\n",
    "\n",
    "    return {\n",
    "        'statusCode': 200,\n",
    "        'body': json.dumps({\"item\":\"bangles\",\n",
    "        \"bangle_type\":\"metal\",\n",
    "        \"size\":\"2.2\",\n",
    "        \"location\":\"machilipatnam\",\n",
    "        \"amount\":amount})\n",
    "    }\n"
   ]
  },
  {
   "cell_type": "code",
   "execution_count": 10,
   "id": "46891d68",
   "metadata": {},
   "outputs": [
    {
     "data": {
      "text/plain": [
       "{'statusCode': 200,\n",
       " 'body': '{\"item\": \"bangles\", \"bangle_type\": \"metal\", \"size\": \"2.2\", \"location\": \"machilipatnam\", \"amount\": 1500}'}"
      ]
     },
     "execution_count": 10,
     "metadata": {},
     "output_type": "execute_result"
    }
   ],
   "source": [
    "lambda_handler(event,\"\")"
   ]
  },
  {
   "cell_type": "code",
   "execution_count": null,
   "id": "931c7aa3",
   "metadata": {},
   "outputs": [],
   "source": []
  },
  {
   "cell_type": "code",
   "execution_count": null,
   "id": "722402ab",
   "metadata": {},
   "outputs": [],
   "source": []
  }
 ],
 "metadata": {
  "kernelspec": {
   "display_name": "Python 3 (ipykernel)",
   "language": "python",
   "name": "python3"
  },
  "language_info": {
   "codemirror_mode": {
    "name": "ipython",
    "version": 3
   },
   "file_extension": ".py",
   "mimetype": "text/x-python",
   "name": "python",
   "nbconvert_exporter": "python",
   "pygments_lexer": "ipython3",
   "version": "3.10.9"
  }
 },
 "nbformat": 4,
 "nbformat_minor": 5
}
