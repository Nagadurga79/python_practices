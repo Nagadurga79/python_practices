{
 "cells": [
  {
   "cell_type": "code",
   "execution_count": 58,
   "id": "23051980",
   "metadata": {},
   "outputs": [
    {
     "name": "stdout",
     "output_type": "stream",
     "text": [
      "['jan', 'feb', 'mar', 'apr', 'may', 'jun', 'jul', 'aug', 'sep', 'oct', 'nov', 'dec']\n",
      "['january', 'feb', 'mar', 'apr', 'may', 'jun', 'jul', 'aug', 'sep', 'oct', 'nov', 'dec']\n",
      "['january', 'february', 'march', 'april', 'may', 'june', 'july', 'august', 'september', 'october', 'november', 'dec']\n",
      "['january', 'february', 'march', 'april', 'may', 'june', 'july', 'august', 'september', 'october', 'november', 'december']\n"
     ]
    }
   ],
   "source": [
    "months=[\"jan\",\"feb\",\"mar\",\"apr\",\"may\",\"jun\",\"jul\",\"aug\",\"sep\",\"oct\",\"nov\",\"dec\"]\n",
    "print(months)\n",
    "months[0]='january'\n",
    "print(months)\n",
    "months[1:11]=['february','march','april','may','june','july','august','september','october','november']\n",
    "print(months)\n",
    "months[11]='december'\n",
    "print(months)\n"
   ]
  },
  {
   "cell_type": "code",
   "execution_count": 53,
   "id": "269f2c85",
   "metadata": {},
   "outputs": [
    {
     "name": "stdout",
     "output_type": "stream",
     "text": [
      "['rose', 'lotus', 'jasmin', 'sunflower', 'hibiscus']\n",
      "['rose-red', 'lotus-pink', 'jasmin-white', 'sunflower-yellow', 'hibiscus-red']\n"
     ]
    }
   ],
   "source": [
    "flowers=['rose','lotus','jasmin','sunflower','hibiscus']\n",
    "print(flowers)\n",
    "flowers[0:5]=['rose-red','lotus-pink','jasmin-white','sunflower-yellow','hibiscus-red']\n",
    "print(flowers)"
   ]
  },
  {
   "cell_type": "code",
   "execution_count": 54,
   "id": "cc7b5252",
   "metadata": {},
   "outputs": [
    {
     "name": "stdout",
     "output_type": "stream",
     "text": [
      "['baburao', 'dhanalakshmi', 'srinivas', 'sravani', 'kumari', 'yedukondalu', 'durga', 'subbarao', 'gayathri', 'radha']\n"
     ]
    }
   ],
   "source": [
    "family=['baburao','dhanalakshmi','srinivas','sravani','kumari','yedukondalu','durga','subbarao','gayathri','radha']\n",
    "print(family)"
   ]
  },
  {
   "cell_type": "code",
   "execution_count": 63,
   "id": "4aff839a",
   "metadata": {},
   "outputs": [
    {
     "name": "stdout",
     "output_type": "stream",
     "text": [
      "['baburao-father', 'dhanalakshmi-mother', 'srinivas-brother', 'sravani-sister', 'kumari-pinni', 'yedukondalu-babay', 'durga-grandmother', 'subbarao-grandfather', 'gayathri-smallsister', 'radha-smallpinni', 'radha-smallpinni', 'radha-smallpinni', 'radha-smallpinni', 'radha-smallpinni']\n"
     ]
    }
   ],
   "source": [
    "family[0:9]=['baburao-father','dhanalakshmi-mother','srinivas-brother','sravani-sister','kumari-pinni','yedukondalu-babay','durga-grandmother','subbarao-grandfather','gayathri-smallsister','radha-smallpinni']\n",
    "print(family)"
   ]
  }
 ],
 "metadata": {
  "kernelspec": {
   "display_name": "Python 3 (ipykernel)",
   "language": "python",
   "name": "python3"
  },
  "language_info": {
   "codemirror_mode": {
    "name": "ipython",
    "version": 3
   },
   "file_extension": ".py",
   "mimetype": "text/x-python",
   "name": "python",
   "nbconvert_exporter": "python",
   "pygments_lexer": "ipython3",
   "version": "3.10.9"
  }
 },
 "nbformat": 4,
 "nbformat_minor": 5
}
