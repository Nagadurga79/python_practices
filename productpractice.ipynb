{
 "cells": [
  {
   "cell_type": "code",
   "execution_count": 1,
   "id": "7758d860",
   "metadata": {},
   "outputs": [
    {
     "name": "stdout",
     "output_type": "stream",
     "text": [
      "name nagadurga\n"
     ]
    }
   ],
   "source": [
    "name='nagadurga'\n",
    "print('name',name)"
   ]
  },
  {
   "cell_type": "code",
   "execution_count": 2,
   "id": "bb87db5c",
   "metadata": {},
   "outputs": [
    {
     "name": "stdout",
     "output_type": "stream",
     "text": [
      "age 22\n"
     ]
    }
   ],
   "source": [
    "age=(22)\n",
    "print('age',age)"
   ]
  },
  {
   "cell_type": "code",
   "execution_count": 3,
   "id": "b79dca9f",
   "metadata": {},
   "outputs": [
    {
     "name": "stdout",
     "output_type": "stream",
     "text": [
      "qualification bsc,computers\n"
     ]
    }
   ],
   "source": [
    "qualification='bsc,computers'\n",
    "print('qualification',qualification)"
   ]
  },
  {
   "cell_type": "code",
   "execution_count": 4,
   "id": "b9aa5c14",
   "metadata": {},
   "outputs": [
    {
     "name": "stdout",
     "output_type": "stream",
     "text": [
      "location gilakaladindi,machilipatnam\n"
     ]
    }
   ],
   "source": [
    "location='gilakaladindi,machilipatnam'\n",
    "print('location',location)"
   ]
  },
  {
   "cell_type": "code",
   "execution_count": 5,
   "id": "5c28d73d",
   "metadata": {},
   "outputs": [
    {
     "name": "stdout",
     "output_type": "stream",
     "text": [
      "gender female\n"
     ]
    }
   ],
   "source": [
    "gender='female'\n",
    "print('gender',gender)"
   ]
  },
  {
   "cell_type": "code",
   "execution_count": 6,
   "id": "6f421c38",
   "metadata": {},
   "outputs": [
    {
     "name": "stdout",
     "output_type": "stream",
     "text": [
      "hobbies watchingtv,listeningmusic\n"
     ]
    }
   ],
   "source": [
    "hobbies='watchingtv,listeningmusic'\n",
    "print('hobbies',hobbies)"
   ]
  },
  {
   "cell_type": "code",
   "execution_count": 8,
   "id": "fb6440d1",
   "metadata": {},
   "outputs": [
    {
     "name": "stdout",
     "output_type": "stream",
     "text": [
      "bestfriendsnames ayesha,vani,anusha,anitha,divya\n"
     ]
    }
   ],
   "source": [
    "bestfriendsnames=('ayesha,vani,anusha,anitha,divya')\n",
    "print('bestfriendsnames',bestfriendsnames)\n"
   ]
  },
  {
   "cell_type": "code",
   "execution_count": null,
   "id": "17312b13",
   "metadata": {},
   "outputs": [],
   "source": []
  },
  {
   "cell_type": "code",
   "execution_count": null,
   "id": "f87268d0",
   "metadata": {},
   "outputs": [],
   "source": []
  }
 ],
 "metadata": {
  "kernelspec": {
   "display_name": "Python 3 (ipykernel)",
   "language": "python",
   "name": "python3"
  },
  "language_info": {
   "codemirror_mode": {
    "name": "ipython",
    "version": 3
   },
   "file_extension": ".py",
   "mimetype": "text/x-python",
   "name": "python",
   "nbconvert_exporter": "python",
   "pygments_lexer": "ipython3",
   "version": "3.10.9"
  }
 },
 "nbformat": 4,
 "nbformat_minor": 5
}
