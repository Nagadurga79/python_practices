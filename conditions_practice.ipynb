{
 "cells": [
  {
   "cell_type": "code",
   "execution_count": 3,
   "id": "6b251789",
   "metadata": {},
   "outputs": [],
   "source": [
    "sales=40\n",
    "if sales>50:\n",
    "    print(\"weekend sales\")"
   ]
  },
  {
   "cell_type": "code",
   "execution_count": 4,
   "id": "3d88daac",
   "metadata": {},
   "outputs": [
    {
     "name": "stdout",
     "output_type": "stream",
     "text": [
      "weekend sales\n"
     ]
    }
   ],
   "source": [
    "sales=60\n",
    "if sales>50:\n",
    "    print('weekend sales')"
   ]
  },
  {
   "cell_type": "code",
   "execution_count": 7,
   "id": "9a6a857a",
   "metadata": {},
   "outputs": [
    {
     "name": "stdout",
     "output_type": "stream",
     "text": [
      "weekday sales\n"
     ]
    }
   ],
   "source": [
    "sales=40\n",
    "if sales>50:\n",
    "    print('weekend sales')\n",
    "else:\n",
    "    print('weekday sales')"
   ]
  },
  {
   "cell_type": "code",
   "execution_count": 8,
   "id": "a438b73a",
   "metadata": {},
   "outputs": [
    {
     "name": "stdout",
     "output_type": "stream",
     "text": [
      "weekend sales\n"
     ]
    }
   ],
   "source": [
    "sales=100\n",
    "if sales>50:\n",
    "    print('weekend sales')\n",
    "else:\n",
    "    print('weekday sales')"
   ]
  },
  {
   "cell_type": "code",
   "execution_count": 6,
   "id": "01f2f87a",
   "metadata": {},
   "outputs": [
    {
     "name": "stdout",
     "output_type": "stream",
     "text": [
      "met average sales\n"
     ]
    }
   ],
   "source": [
    "sale=20\n",
    "if sale<15:\n",
    "    print('not met average sale')\n",
    "elif sale>=15 and sale<=20:\n",
    "    print('met average sales')\n",
    "else:\n",
    "    print('profit sales')"
   ]
  },
  {
   "cell_type": "code",
   "execution_count": 5,
   "id": "a80e7c59",
   "metadata": {},
   "outputs": [
    {
     "name": "stdout",
     "output_type": "stream",
     "text": [
      "met average sale\n"
     ]
    }
   ],
   "source": [
    "sale=25\n",
    "if sale>20:\n",
    "    print('met average sale')\n",
    "elif sale>=20 or sale<=30:\n",
    "    print('profit sale')\n",
    "else:\n",
    "    print('unprofit sale')"
   ]
  },
  {
   "cell_type": "code",
   "execution_count": 1,
   "id": "faf402e1",
   "metadata": {},
   "outputs": [],
   "source": [
    "age=10"
   ]
  },
  {
   "cell_type": "code",
   "execution_count": 2,
   "id": "6263f94e",
   "metadata": {},
   "outputs": [
    {
     "name": "stdout",
     "output_type": "stream",
     "text": [
      "children\n"
     ]
    }
   ],
   "source": [
    "if age==20:\n",
    "    print(\"teen_age\")\n",
    "elif age==30:\n",
    "    print(\"young_age\")\n",
    "elif age==10:\n",
    "    print(\"children\")\n",
    "elif age==40:\n",
    "    print(\"old_age\")\n",
    "else:\n",
    "    print(\"age is not available\")"
   ]
  },
  {
   "cell_type": "code",
   "execution_count": 4,
   "id": "841e9643",
   "metadata": {},
   "outputs": [],
   "source": [
    "week=\"monday\""
   ]
  },
  {
   "cell_type": "code",
   "execution_count": null,
   "id": "0b354aea",
   "metadata": {},
   "outputs": [],
   "source": []
  },
  {
   "cell_type": "code",
   "execution_count": null,
   "id": "b98f98bd",
   "metadata": {},
   "outputs": [],
   "source": []
  },
  {
   "cell_type": "code",
   "execution_count": 1,
   "id": "d7333391",
   "metadata": {},
   "outputs": [
    {
     "name": "stdout",
     "output_type": "stream",
     "text": [
      "Five is greater than two!\n",
      "Five is greater than two!\n"
     ]
    }
   ],
   "source": [
    "if 5 > 2:\n",
    "    \n",
    "    print(\"Five is greater than two!\")  \n",
    "if 5 > 2:\n",
    "\n",
    "        print(\"Five is greater than two!\") \n"
   ]
  },
  {
   "cell_type": "code",
   "execution_count": null,
   "id": "a3427eac",
   "metadata": {},
   "outputs": [],
   "source": []
  },
  {
   "cell_type": "code",
   "execution_count": null,
   "id": "33152b33",
   "metadata": {},
   "outputs": [],
   "source": []
  },
  {
   "cell_type": "code",
   "execution_count": null,
   "id": "9cd5048d",
   "metadata": {},
   "outputs": [],
   "source": []
  },
  {
   "cell_type": "code",
   "execution_count": null,
   "id": "ce57461e",
   "metadata": {},
   "outputs": [],
   "source": []
  },
  {
   "cell_type": "code",
   "execution_count": null,
   "id": "a20b3a23",
   "metadata": {},
   "outputs": [],
   "source": []
  },
  {
   "cell_type": "code",
   "execution_count": null,
   "id": "978d3b36",
   "metadata": {},
   "outputs": [],
   "source": []
  },
  {
   "cell_type": "code",
   "execution_count": null,
   "id": "3c799fea",
   "metadata": {},
   "outputs": [],
   "source": []
  },
  {
   "cell_type": "code",
   "execution_count": null,
   "id": "a5767438",
   "metadata": {},
   "outputs": [],
   "source": []
  },
  {
   "cell_type": "code",
   "execution_count": null,
   "id": "989b1f5b",
   "metadata": {},
   "outputs": [],
   "source": []
  },
  {
   "cell_type": "code",
   "execution_count": null,
   "id": "96922f93",
   "metadata": {},
   "outputs": [],
   "source": []
  },
  {
   "cell_type": "code",
   "execution_count": null,
   "id": "61f7de08",
   "metadata": {},
   "outputs": [],
   "source": []
  },
  {
   "cell_type": "code",
   "execution_count": null,
   "id": "6f4f96b2",
   "metadata": {},
   "outputs": [],
   "source": []
  }
 ],
 "metadata": {
  "kernelspec": {
   "display_name": "Python 3 (ipykernel)",
   "language": "python",
   "name": "python3"
  },
  "language_info": {
   "codemirror_mode": {
    "name": "ipython",
    "version": 3
   },
   "file_extension": ".py",
   "mimetype": "text/x-python",
   "name": "python",
   "nbconvert_exporter": "python",
   "pygments_lexer": "ipython3",
   "version": "3.10.9"
  }
 },
 "nbformat": 4,
 "nbformat_minor": 5
}
