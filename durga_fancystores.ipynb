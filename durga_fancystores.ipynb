{
 "cells": [
  {
   "cell_type": "code",
   "execution_count": 44,
   "id": "bcc99e35",
   "metadata": {},
   "outputs": [],
   "source": [
    "event1={'item':'bangles',\n",
    "    'bangle_type':'metal',\n",
    "       'size':'2.2',\n",
    "       'location':'machilipatnam'}"
   ]
  },
  {
   "cell_type": "code",
   "execution_count": 47,
   "id": "bb833101",
   "metadata": {},
   "outputs": [],
   "source": [
    "def fancystore_example(details):\n",
    "    if event1['item']=='bangles':\n",
    "        if event1['size']=='2.2':\n",
    "            if event1['bangle_type']=='roldgold':\n",
    "                amount=2500\n",
    "            elif event1['bangle_type']=='metal':\n",
    "                amount=1500\n",
    "        elif event1['size']=='2.4':\n",
    "            if event1['bangle_type']=='roldgold':\n",
    "                amount==3000\n",
    "            elif event1['bangle_type']=='metal':\n",
    "                amount==2000\n",
    "    return {'item':'bangles',\n",
    "    'bangle_type':'metal',\n",
    "       'size':'2.2',\n",
    "            'location':'machilipatnam',\n",
    "           'amount':amount}             "
   ]
  },
  {
   "cell_type": "code",
   "execution_count": 48,
   "id": "459f6e4b",
   "metadata": {},
   "outputs": [
    {
     "data": {
      "text/plain": [
       "{'item': 'bangles',\n",
       " 'bangle_type': 'metal',\n",
       " 'size': '2.2',\n",
       " 'location': 'machilipatnam',\n",
       " 'amount': 1500}"
      ]
     },
     "execution_count": 48,
     "metadata": {},
     "output_type": "execute_result"
    }
   ],
   "source": [
    "fancystore_example(event1)"
   ]
  },
  {
   "cell_type": "code",
   "execution_count": null,
   "id": "3c898e9c",
   "metadata": {},
   "outputs": [],
   "source": []
  }
 ],
 "metadata": {
  "kernelspec": {
   "display_name": "Python 3 (ipykernel)",
   "language": "python",
   "name": "python3"
  },
  "language_info": {
   "codemirror_mode": {
    "name": "ipython",
    "version": 3
   },
   "file_extension": ".py",
   "mimetype": "text/x-python",
   "name": "python",
   "nbconvert_exporter": "python",
   "pygments_lexer": "ipython3",
   "version": "3.10.9"
  }
 },
 "nbformat": 4,
 "nbformat_minor": 5
}
