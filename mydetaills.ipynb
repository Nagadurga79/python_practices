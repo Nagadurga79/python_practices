{
 "cells": [
  {
   "cell_type": "code",
   "execution_count": 2,
   "id": "3187f61d",
   "metadata": {},
   "outputs": [
    {
     "name": "stdout",
     "output_type": "stream",
     "text": [
      "nagadurga\n"
     ]
    }
   ],
   "source": [
    "name='nagadurga'\n",
    "print(name)"
   ]
  },
  {
   "cell_type": "code",
   "execution_count": 3,
   "id": "ebcde372",
   "metadata": {},
   "outputs": [
    {
     "name": "stdout",
     "output_type": "stream",
     "text": [
      "gilakaladindi,machilipatnam\n"
     ]
    }
   ],
   "source": [
    "location='gilakaladindi,machilipatnam'\n",
    "print(location)"
   ]
  },
  {
   "cell_type": "code",
   "execution_count": 4,
   "id": "112e53ea",
   "metadata": {},
   "outputs": [
    {
     "name": "stdout",
     "output_type": "stream",
     "text": [
      "bsc,computers\n"
     ]
    }
   ],
   "source": [
    "qualification='bsc,computers'\n",
    "print(qualification)"
   ]
  },
  {
   "cell_type": "code",
   "execution_count": 6,
   "id": "8612f4d3",
   "metadata": {},
   "outputs": [
    {
     "name": "stdout",
     "output_type": "stream",
     "text": [
      "22\n"
     ]
    }
   ],
   "source": [
    "age=22\n",
    "print(age)"
   ]
  },
  {
   "cell_type": "code",
   "execution_count": 7,
   "id": "c1a9a2f6",
   "metadata": {},
   "outputs": [
    {
     "name": "stdout",
     "output_type": "stream",
     "text": [
      "playinghouise\n"
     ]
    }
   ],
   "source": [
    "hobbies='playinghouise'\n",
    "print(hobbies)"
   ]
  }
 ],
 "metadata": {
  "kernelspec": {
   "display_name": "Python 3 (ipykernel)",
   "language": "python",
   "name": "python3"
  },
  "language_info": {
   "codemirror_mode": {
    "name": "ipython",
    "version": 3
   },
   "file_extension": ".py",
   "mimetype": "text/x-python",
   "name": "python",
   "nbconvert_exporter": "python",
   "pygments_lexer": "ipython3",
   "version": "3.10.9"
  }
 },
 "nbformat": 4,
 "nbformat_minor": 5
}
