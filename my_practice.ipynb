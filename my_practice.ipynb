{
 "cells": [
  {
   "cell_type": "code",
   "execution_count": null,
   "id": "7f5c5afa",
   "metadata": {},
   "outputs": [],
   "source": [
    "name='nagadurga'\n"
   ]
  },
  {
   "cell_type": "code",
   "execution_count": 4,
   "id": "2ff9dc59",
   "metadata": {},
   "outputs": [
    {
     "name": "stdout",
     "output_type": "stream",
     "text": [
      "nagadurga\n"
     ]
    }
   ],
   "source": [
    "print('nagadurga')"
   ]
  },
  {
   "cell_type": "code",
   "execution_count": 5,
   "id": "7587cbd8",
   "metadata": {},
   "outputs": [
    {
     "name": "stdout",
     "output_type": "stream",
     "text": [
      "4.0\n"
     ]
    }
   ],
   "source": [
    "print(16/(6-2))"
   ]
  },
  {
   "cell_type": "code",
   "execution_count": 1,
   "id": "fbdaa3cb",
   "metadata": {},
   "outputs": [
    {
     "name": "stdout",
     "output_type": "stream",
     "text": [
      "aaaaaaaaaa\n"
     ]
    }
   ],
   "source": [
    "s='a'*10\n",
    "print(s)"
   ]
  },
  {
   "cell_type": "code",
   "execution_count": null,
   "id": "18680cbf",
   "metadata": {},
   "outputs": [],
   "source": [
    "quote='actions speak louder than words'\n",
    "int1=int(6/3)\n",
    "print(int1)\n",
    "int2=5*3\n",
    "print(int2)\n",
    "quote=quote[int1:int2]\n",
    "print(quote)"
   ]
  },
  {
   "cell_type": "code",
   "execution_count": null,
   "id": "a0ab5cdf",
   "metadata": {},
   "outputs": [],
   "source": []
  },
  {
   "cell_type": "code",
   "execution_count": null,
   "id": "4e75a653",
   "metadata": {},
   "outputs": [],
   "source": [
    "num=int(input(32))\n",
    "print(num)\n"
   ]
  },
  {
   "cell_type": "code",
   "execution_count": null,
   "id": "5a9315a9",
   "metadata": {},
   "outputs": [],
   "source": [
    "number='10'\n",
    "number=float(number)\n",
    "print(type(number))"
   ]
  },
  {
   "cell_type": "code",
   "execution_count": null,
   "id": "377b20d2",
   "metadata": {},
   "outputs": [],
   "source": [
    "print(number)"
   ]
  },
  {
   "cell_type": "code",
   "execution_count": 1,
   "id": "a12ba3d6",
   "metadata": {},
   "outputs": [
    {
     "name": "stdout",
     "output_type": "stream",
     "text": [
      "++++++++++++\n"
     ]
    }
   ],
   "source": [
    "x='12'\n",
    "y='+'*int(x)\n",
    "print(y)"
   ]
  },
  {
   "cell_type": "code",
   "execution_count": 2,
   "id": "07850e84",
   "metadata": {},
   "outputs": [
    {
     "name": "stdout",
     "output_type": "stream",
     "text": [
      "Mother Theresa\n"
     ]
    }
   ],
   "source": [
    "string=\"Mother Theresa\"\n",
    "s=string[:6]+string[6:]\n",
    "print(s)"
   ]
  },
  {
   "cell_type": "code",
   "execution_count": 3,
   "id": "1447ceb5",
   "metadata": {},
   "outputs": [
    {
     "name": "stdout",
     "output_type": "stream",
     "text": [
      "<class 'float'>\n"
     ]
    }
   ],
   "source": [
    "length='12'\n",
    "length=float(length)\n",
    "print(type(length))"
   ]
  },
  {
   "cell_type": "code",
   "execution_count": 4,
   "id": "c292aad1",
   "metadata": {},
   "outputs": [
    {
     "name": "stdout",
     "output_type": "stream",
     "text": [
      "3\n"
     ]
    }
   ],
   "source": [
    "freedom_fighter='nick thomas'\n",
    "length=len(freedom_fighter[:3])\n",
    "print(length)"
   ]
  },
  {
   "cell_type": "code",
   "execution_count": 5,
   "id": "41416ffb",
   "metadata": {},
   "outputs": [
    {
     "name": "stdout",
     "output_type": "stream",
     "text": [
      "programming\n"
     ]
    }
   ],
   "source": [
    "course=\"python programming\"\n",
    "part=course[7:]\n",
    "print(part)"
   ]
  },
  {
   "cell_type": "code",
   "execution_count": 8,
   "id": "f1d47c50",
   "metadata": {},
   "outputs": [
    {
     "name": "stdout",
     "output_type": "stream",
     "text": [
      "Biryani\n"
     ]
    }
   ],
   "source": [
    "food ='Biryani'\n",
    "new_string=food[:7]\n",
    "print(new_string)"
   ]
  },
  {
   "cell_type": "code",
   "execution_count": 10,
   "id": "60c39bf9",
   "metadata": {},
   "outputs": [
    {
     "name": "stdout",
     "output_type": "stream",
     "text": [
      "india navy\n"
     ]
    }
   ],
   "source": [
    "profession='indian navy'\n",
    "new_string=profession[:5]+profession[6:]\n",
    "print(new_string)"
   ]
  },
  {
   "cell_type": "code",
   "execution_count": null,
   "id": "4b63a109",
   "metadata": {},
   "outputs": [],
   "source": [
    "profession='indian navy'\n",
    "new_string=profession[:5]+profession[6:]\n",
    "print(new_string)"
   ]
  },
  {
   "cell_type": "code",
   "execution_count": null,
   "id": "b53bec3c",
   "metadata": {},
   "outputs": [],
   "source": []
  },
  {
   "cell_type": "code",
   "execution_count": null,
   "id": "adaa4764",
   "metadata": {},
   "outputs": [],
   "source": []
  },
  {
   "cell_type": "code",
   "execution_count": null,
   "id": "3ae73892",
   "metadata": {},
   "outputs": [],
   "source": []
  }
 ],
 "metadata": {
  "kernelspec": {
   "display_name": "Python 3 (ipykernel)",
   "language": "python",
   "name": "python3"
  },
  "language_info": {
   "codemirror_mode": {
    "name": "ipython",
    "version": 3
   },
   "file_extension": ".py",
   "mimetype": "text/x-python",
   "name": "python",
   "nbconvert_exporter": "python",
   "pygments_lexer": "ipython3",
   "version": "3.10.9"
  }
 },
 "nbformat": 4,
 "nbformat_minor": 5
}
