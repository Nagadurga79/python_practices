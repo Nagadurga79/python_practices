{
 "cells": [
  {
   "cell_type": "code",
   "execution_count": 22,
   "id": "414feff8",
   "metadata": {},
   "outputs": [
    {
     "data": {
      "text/plain": [
       "3"
      ]
     },
     "execution_count": 22,
     "metadata": {},
     "output_type": "execute_result"
    }
   ],
   "source": [
    "lst=[1,2,3,4,5,6,]\n",
    "lst[0]\n",
    "lst[-4]"
   ]
  },
  {
   "cell_type": "code",
   "execution_count": 32,
   "id": "36138ae0",
   "metadata": {},
   "outputs": [
    {
     "name": "stdout",
     "output_type": "stream",
     "text": [
      "numbers [1, 2, 3, 4, 5, 6, 7, 8, 9]\n"
     ]
    }
   ],
   "source": [
    "numbers=[1,2,3,4,5,6,7,8,9]\n",
    "print('numbers',numbers)"
   ]
  },
  {
   "cell_type": "code",
   "execution_count": 4,
   "id": "d8b628f0",
   "metadata": {},
   "outputs": [
    {
     "data": {
      "text/plain": [
       "6"
      ]
     },
     "execution_count": 4,
     "metadata": {},
     "output_type": "execute_result"
    }
   ],
   "source": [
    "lst[0]\n",
    "lst[5]"
   ]
  },
  {
   "cell_type": "code",
   "execution_count": 17,
   "id": "c71fb1ae",
   "metadata": {},
   "outputs": [
    {
     "data": {
      "text/plain": [
       "'b'"
      ]
     },
     "execution_count": 17,
     "metadata": {},
     "output_type": "execute_result"
    }
   ],
   "source": [
    "lst[-4]"
   ]
  },
  {
   "cell_type": "code",
   "execution_count": 8,
   "id": "e513a809",
   "metadata": {},
   "outputs": [
    {
     "name": "stdout",
     "output_type": "stream",
     "text": [
      "[1, 2, 3, 4, 5, 6, 7]\n"
     ]
    }
   ],
   "source": [
    "lst=[1,2,3,4,5,6,7]\n",
    "print(lst)"
   ]
  },
  {
   "cell_type": "code",
   "execution_count": 16,
   "id": "0db6362f",
   "metadata": {},
   "outputs": [
    {
     "data": {
      "text/plain": [
       "'a'"
      ]
     },
     "execution_count": 16,
     "metadata": {},
     "output_type": "execute_result"
    }
   ],
   "source": [
    "lst[-5]"
   ]
  },
  {
   "cell_type": "code",
   "execution_count": 9,
   "id": "b2b02d3f",
   "metadata": {},
   "outputs": [
    {
     "name": "stdout",
     "output_type": "stream",
     "text": [
      "lst ['a', 'b', 'c', 'd', 'e']\n"
     ]
    }
   ],
   "source": [
    "#lst=['a','b','c','d','e']\n",
    "print('lst',lst)"
   ]
  },
  {
   "cell_type": "code",
   "execution_count": 10,
   "id": "7c16b977",
   "metadata": {},
   "outputs": [
    {
     "data": {
      "text/plain": [
       "'a'"
      ]
     },
     "execution_count": 10,
     "metadata": {},
     "output_type": "execute_result"
    }
   ],
   "source": [
    "lst[0]"
   ]
  },
  {
   "cell_type": "code",
   "execution_count": 11,
   "id": "77608b84",
   "metadata": {},
   "outputs": [
    {
     "data": {
      "text/plain": [
       "'d'"
      ]
     },
     "execution_count": 11,
     "metadata": {},
     "output_type": "execute_result"
    }
   ],
   "source": [
    "lst[3]"
   ]
  },
  {
   "cell_type": "code",
   "execution_count": 13,
   "id": "b286b56f",
   "metadata": {},
   "outputs": [
    {
     "data": {
      "text/plain": [
       "['a', 'b', 'c', 'd', 'e']"
      ]
     },
     "execution_count": 13,
     "metadata": {},
     "output_type": "execute_result"
    }
   ],
   "source": [
    "lst[0:5]"
   ]
  },
  {
   "cell_type": "code",
   "execution_count": 14,
   "id": "399248a2",
   "metadata": {},
   "outputs": [
    {
     "data": {
      "text/plain": [
       "'c'"
      ]
     },
     "execution_count": 14,
     "metadata": {},
     "output_type": "execute_result"
    }
   ],
   "source": [
    "lst[-3]"
   ]
  },
  {
   "cell_type": "code",
   "execution_count": null,
   "id": "2c8bb782",
   "metadata": {},
   "outputs": [],
   "source": []
  },
  {
   "cell_type": "code",
   "execution_count": 38,
   "id": "dc34d63e",
   "metadata": {},
   "outputs": [
    {
     "data": {
      "text/plain": [
       "1"
      ]
     },
     "execution_count": 38,
     "metadata": {},
     "output_type": "execute_result"
    }
   ],
   "source": [
    "tup=(1,2,3,4,5,6)\n",
    "tup[0]"
   ]
  },
  {
   "cell_type": "code",
   "execution_count": 40,
   "id": "679f51c5",
   "metadata": {},
   "outputs": [
    {
     "data": {
      "text/plain": [
       "5"
      ]
     },
     "execution_count": 40,
     "metadata": {},
     "output_type": "execute_result"
    }
   ],
   "source": [
    "tup[4]"
   ]
  },
  {
   "cell_type": "code",
   "execution_count": 2,
   "id": "e91b461b",
   "metadata": {},
   "outputs": [
    {
     "name": "stdout",
     "output_type": "stream",
     "text": [
      "(1, 2, 3, 4, 5, 6)\n"
     ]
    }
   ],
   "source": [
    "tup=(1,2,3,4,5,6)\n",
    "print(tup)"
   ]
  },
  {
   "cell_type": "code",
   "execution_count": 36,
   "id": "106024f9",
   "metadata": {},
   "outputs": [
    {
     "data": {
      "text/plain": [
       "8"
      ]
     },
     "execution_count": 36,
     "metadata": {},
     "output_type": "execute_result"
    }
   ],
   "source": [
    "tup=(1,2,3,5,8,9,)\n",
    "tup[4]"
   ]
  },
  {
   "cell_type": "code",
   "execution_count": null,
   "id": "3f474abf",
   "metadata": {},
   "outputs": [],
   "source": [
    "tup="
   ]
  },
  {
   "cell_type": "code",
   "execution_count": 42,
   "id": "f2a6a2e2",
   "metadata": {},
   "outputs": [],
   "source": [
    "name=(\"nagadurga\")\n"
   ]
  },
  {
   "cell_type": "code",
   "execution_count": 43,
   "id": "9fbeab49",
   "metadata": {},
   "outputs": [
    {
     "name": "stdout",
     "output_type": "stream",
     "text": [
      "this is my name nagadurga\n"
     ]
    }
   ],
   "source": [
    "print(\"this is my name\",name)"
   ]
  },
  {
   "cell_type": "code",
   "execution_count": 3,
   "id": "9a295fb0",
   "metadata": {},
   "outputs": [
    {
     "name": "stdout",
     "output_type": "stream",
     "text": [
      "10000000000000000000000000000000000000000000000000000000000000000000000000000000000000000000000000000000000000000000000000000000000000000000000000000000000000000000000000000000000000000\n"
     ]
    }
   ],
   "source": [
    "x=10000000000000000000000000000000000000000000000000000000000000000000000000000000000000000000000000000000000000000000000000000000000000000000000000000000000000000000000000000000000000000\n",
    "print(x)"
   ]
  },
  {
   "cell_type": "code",
   "execution_count": 4,
   "id": "deecb6a1",
   "metadata": {},
   "outputs": [
    {
     "name": "stdout",
     "output_type": "stream",
     "text": [
      "10.243646578348923\n"
     ]
    }
   ],
   "source": [
    "y=10.243646578348923074567\n",
    "print(y)"
   ]
  },
  {
   "cell_type": "code",
   "execution_count": 45,
   "id": "0622830b",
   "metadata": {},
   "outputs": [
    {
     "name": "stdout",
     "output_type": "stream",
     "text": [
      "1300\n"
     ]
    }
   ],
   "source": [
    "x=1300\n",
    "print(x)"
   ]
  },
  {
   "cell_type": "code",
   "execution_count": 46,
   "id": "ec5a72c7",
   "metadata": {},
   "outputs": [
    {
     "data": {
      "text/plain": [
       "15000"
      ]
     },
     "execution_count": 46,
     "metadata": {},
     "output_type": "execute_result"
    }
   ],
   "source": [
    "x=15000\n",
    "x"
   ]
  },
  {
   "cell_type": "code",
   "execution_count": 6,
   "id": "5f2605be",
   "metadata": {},
   "outputs": [
    {
     "name": "stdout",
     "output_type": "stream",
     "text": [
      "{1, 2, 3, 4, 5, 6, 7}\n"
     ]
    }
   ],
   "source": [
    "set={1,2,3,4,5,6,7}\n",
    "print(set)"
   ]
  },
  {
   "cell_type": "code",
   "execution_count": 6,
   "id": "b3929757",
   "metadata": {},
   "outputs": [
    {
     "name": "stdout",
     "output_type": "stream",
     "text": [
      "{1, 2, 3, 5, 6, 7, 8, 10}\n"
     ]
    }
   ],
   "source": [
    "set={7,3,2,8,5,6,10,1,2,6}\n",
    "print(set)"
   ]
  },
  {
   "cell_type": "code",
   "execution_count": 5,
   "id": "a81cf5ce",
   "metadata": {},
   "outputs": [
    {
     "name": "stdout",
     "output_type": "stream",
     "text": [
      "[2, 5, 4, 7, 3, 8, 5, 6, 2, 4]\n"
     ]
    }
   ],
   "source": [
    "lst=[2,5,4,7,3,8,5,6,2,4]\n",
    "print(lst)"
   ]
  },
  {
   "cell_type": "code",
   "execution_count": 8,
   "id": "24548182",
   "metadata": {},
   "outputs": [],
   "source": [
    "seq_set=set(lst)"
   ]
  },
  {
   "cell_type": "code",
   "execution_count": 9,
   "id": "10196dd4",
   "metadata": {},
   "outputs": [
    {
     "data": {
      "text/plain": [
       "{2, 3, 4, 5, 6, 7, 8}"
      ]
     },
     "execution_count": 9,
     "metadata": {},
     "output_type": "execute_result"
    }
   ],
   "source": [
    "seq_set"
   ]
  },
  {
   "cell_type": "code",
   "execution_count": 11,
   "id": "229271e6",
   "metadata": {},
   "outputs": [
    {
     "name": "stdout",
     "output_type": "stream",
     "text": [
      "['a', 'r', 'f', 'w', 'f', 'r', 'f', 't']\n"
     ]
    }
   ],
   "source": [
    "lst1=['a','r','f','w','f','r','f','t']\n",
    "print(lst1)"
   ]
  },
  {
   "cell_type": "code",
   "execution_count": 12,
   "id": "1b57edd1",
   "metadata": {},
   "outputs": [],
   "source": [
    "seq_set=set(lst1)"
   ]
  },
  {
   "cell_type": "code",
   "execution_count": 13,
   "id": "c4eecf51",
   "metadata": {},
   "outputs": [
    {
     "data": {
      "text/plain": [
       "{'a', 'f', 'r', 't', 'w'}"
      ]
     },
     "execution_count": 13,
     "metadata": {},
     "output_type": "execute_result"
    }
   ],
   "source": [
    "seq_set"
   ]
  },
  {
   "cell_type": "code",
   "execution_count": 21,
   "id": "7a8b1531",
   "metadata": {},
   "outputs": [
    {
     "name": "stdout",
     "output_type": "stream",
     "text": [
      "['nagadurga', 'gowthami', 'thabasum', 'vaishnavi', 'shanthi', 'gowthami']\n"
     ]
    }
   ],
   "source": [
    "lst2=['nagadurga','gowthami','thabasum','vaishnavi','shanthi','gowthami']\n",
    "print(lst2)"
   ]
  },
  {
   "cell_type": "code",
   "execution_count": 22,
   "id": "45795ac1",
   "metadata": {},
   "outputs": [],
   "source": [
    "seq_set=set(lst2)"
   ]
  },
  {
   "cell_type": "code",
   "execution_count": 20,
   "id": "7cd590a9",
   "metadata": {},
   "outputs": [
    {
     "data": {
      "text/plain": [
       "{'gowthami', 'nagadurga', 'shanthi', 'thabasum', 'vaishnavi'}"
      ]
     },
     "execution_count": 20,
     "metadata": {},
     "output_type": "execute_result"
    }
   ],
   "source": [
    "seq_set"
   ]
  },
  {
   "cell_type": "code",
   "execution_count": 1,
   "id": "ffc0c05c",
   "metadata": {},
   "outputs": [
    {
     "name": "stdout",
     "output_type": "stream",
     "text": [
      "['nagadurga', 'gowthami', 'thabasum', 'vaishnavi', 'shanthi', 'gowthami']\n"
     ]
    }
   ],
   "source": [
    "lst2=['nagadurga','gowthami','thabasum','vaishnavi','shanthi','gowthami']\n",
    "print(lst2)"
   ]
  },
  {
   "cell_type": "code",
   "execution_count": 2,
   "id": "9b97b989",
   "metadata": {},
   "outputs": [],
   "source": [
    "seq_set=set(lst2)"
   ]
  },
  {
   "cell_type": "code",
   "execution_count": 3,
   "id": "14c697f8",
   "metadata": {},
   "outputs": [
    {
     "data": {
      "text/plain": [
       "{'gowthami', 'nagadurga', 'shanthi', 'thabasum', 'vaishnavi'}"
      ]
     },
     "execution_count": 3,
     "metadata": {},
     "output_type": "execute_result"
    }
   ],
   "source": [
    "seq_set"
   ]
  },
  {
   "cell_type": "code",
   "execution_count": 19,
   "id": "ecdadb65",
   "metadata": {},
   "outputs": [],
   "source": [
    "lst=[1,2,3,4,5,6,7,8,9]"
   ]
  },
  {
   "cell_type": "code",
   "execution_count": 20,
   "id": "b1cca524",
   "metadata": {},
   "outputs": [
    {
     "data": {
      "text/plain": [
       "[1, 2, 3, 4, 5, 6, 7, 8, 9]"
      ]
     },
     "execution_count": 20,
     "metadata": {},
     "output_type": "execute_result"
    }
   ],
   "source": [
    "lst"
   ]
  },
  {
   "cell_type": "code",
   "execution_count": 21,
   "id": "f2890e87",
   "metadata": {},
   "outputs": [
    {
     "data": {
      "text/plain": [
       "6"
      ]
     },
     "execution_count": 21,
     "metadata": {},
     "output_type": "execute_result"
    }
   ],
   "source": [
    "lst[5]"
   ]
  },
  {
   "cell_type": "code",
   "execution_count": 11,
   "id": "974f86b5",
   "metadata": {},
   "outputs": [
    {
     "data": {
      "text/plain": [
       "[1, 2, 3, 4, 5, 6, 7, 8, 9]"
      ]
     },
     "execution_count": 11,
     "metadata": {},
     "output_type": "execute_result"
    }
   ],
   "source": [
    "lst[0:]\n"
   ]
  },
  {
   "cell_type": "code",
   "execution_count": 23,
   "id": "f3d30583",
   "metadata": {},
   "outputs": [
    {
     "data": {
      "text/plain": [
       "[1, 2, 3, 4, 5, 6, 7]"
      ]
     },
     "execution_count": 23,
     "metadata": {},
     "output_type": "execute_result"
    }
   ],
   "source": [
    "lst[:7]"
   ]
  },
  {
   "cell_type": "code",
   "execution_count": 15,
   "id": "4f4f6c60",
   "metadata": {},
   "outputs": [
    {
     "data": {
      "text/plain": [
       "[1, 2, 3, 4, 5]"
      ]
     },
     "execution_count": 15,
     "metadata": {},
     "output_type": "execute_result"
    }
   ],
   "source": [
    "lst[0:5]"
   ]
  },
  {
   "cell_type": "code",
   "execution_count": 25,
   "id": "68a0d6cd",
   "metadata": {},
   "outputs": [],
   "source": [
    "lst=['a','b','c','d','e','f','g','h','i','j']"
   ]
  },
  {
   "cell_type": "code",
   "execution_count": 26,
   "id": "41b811cc",
   "metadata": {},
   "outputs": [
    {
     "data": {
      "text/plain": [
       "['a', 'b', 'c', 'd', 'e', 'f', 'g', 'h', 'i', 'j']"
      ]
     },
     "execution_count": 26,
     "metadata": {},
     "output_type": "execute_result"
    }
   ],
   "source": [
    "lst"
   ]
  },
  {
   "cell_type": "code",
   "execution_count": 27,
   "id": "14a4d260",
   "metadata": {},
   "outputs": [
    {
     "data": {
      "text/plain": [
       "['a', 'b', 'c', 'd', 'e', 'f', 'g', 'h', 'i', 'j']"
      ]
     },
     "execution_count": 27,
     "metadata": {},
     "output_type": "execute_result"
    }
   ],
   "source": [
    "lst[0:]"
   ]
  },
  {
   "cell_type": "code",
   "execution_count": 29,
   "id": "74239a4c",
   "metadata": {},
   "outputs": [
    {
     "data": {
      "text/plain": [
       "['a', 'b', 'c', 'd', 'e', 'f', 'g', 'h', 'i', 'j']"
      ]
     },
     "execution_count": 29,
     "metadata": {},
     "output_type": "execute_result"
    }
   ],
   "source": [
    "lst[:10]"
   ]
  },
  {
   "cell_type": "code",
   "execution_count": 30,
   "id": "aeb1b971",
   "metadata": {},
   "outputs": [
    {
     "data": {
      "text/plain": [
       "['a', 'b', 'c', 'd', 'e', 'f', 'g', 'h', 'i']"
      ]
     },
     "execution_count": 30,
     "metadata": {},
     "output_type": "execute_result"
    }
   ],
   "source": [
    "lst[:9]"
   ]
  },
  {
   "cell_type": "code",
   "execution_count": 31,
   "id": "b19b8762",
   "metadata": {},
   "outputs": [
    {
     "data": {
      "text/plain": [
       "['a', 'b', 'c', 'd', 'e']"
      ]
     },
     "execution_count": 31,
     "metadata": {},
     "output_type": "execute_result"
    }
   ],
   "source": [
    "lst[0:5]"
   ]
  },
  {
   "cell_type": "code",
   "execution_count": 35,
   "id": "92740fca",
   "metadata": {},
   "outputs": [
    {
     "data": {
      "text/plain": [
       "['f', 'g', 'h', 'i', 'j']"
      ]
     },
     "execution_count": 35,
     "metadata": {},
     "output_type": "execute_result"
    }
   ],
   "source": [
    "lst[-5:]"
   ]
  },
  {
   "cell_type": "code",
   "execution_count": 1,
   "id": "bf61dfe8",
   "metadata": {},
   "outputs": [],
   "source": [
    "var_1=\"nagadurga\""
   ]
  },
  {
   "cell_type": "code",
   "execution_count": 2,
   "id": "ef0aab40",
   "metadata": {},
   "outputs": [
    {
     "data": {
      "text/plain": [
       "'nagadurga'"
      ]
     },
     "execution_count": 2,
     "metadata": {},
     "output_type": "execute_result"
    }
   ],
   "source": [
    "var_1"
   ]
  },
  {
   "cell_type": "code",
   "execution_count": 3,
   "id": "9efa1097",
   "metadata": {},
   "outputs": [],
   "source": [
    "family_1=\"baburao\""
   ]
  },
  {
   "cell_type": "code",
   "execution_count": 4,
   "id": "9ffe6e23",
   "metadata": {},
   "outputs": [
    {
     "data": {
      "text/plain": [
       "'baburao'"
      ]
     },
     "execution_count": 4,
     "metadata": {},
     "output_type": "execute_result"
    }
   ],
   "source": [
    "family_1"
   ]
  },
  {
   "cell_type": "code",
   "execution_count": 6,
   "id": "7519a8a0",
   "metadata": {},
   "outputs": [],
   "source": [
    "friend_names=[\"vani\",\"ayesha\",\"anusha\",\"divya\",\"anitha\",]"
   ]
  },
  {
   "cell_type": "code",
   "execution_count": 7,
   "id": "60fa0a5a",
   "metadata": {},
   "outputs": [
    {
     "data": {
      "text/plain": [
       "['vani', 'ayesha', 'anusha', 'divya', 'anitha']"
      ]
     },
     "execution_count": 7,
     "metadata": {},
     "output_type": "execute_result"
    }
   ],
   "source": [
    "friend_names"
   ]
  },
  {
   "cell_type": "code",
   "execution_count": 16,
   "id": "8468b845",
   "metadata": {},
   "outputs": [],
   "source": [
    "friend_names[3]=\"akhila\""
   ]
  },
  {
   "cell_type": "code",
   "execution_count": 17,
   "id": "0a5924ac",
   "metadata": {},
   "outputs": [
    {
     "data": {
      "text/plain": [
       "['vani', 'ayesha', 'anusha', 'akhila', 'anitha']"
      ]
     },
     "execution_count": 17,
     "metadata": {},
     "output_type": "execute_result"
    }
   ],
   "source": [
    "friend_names"
   ]
  },
  {
   "cell_type": "code",
   "execution_count": 8,
   "id": "32a25929",
   "metadata": {},
   "outputs": [],
   "source": [
    "family=(\"baburao\",\"dhanalkshmi\",\"srinivas\",\"sravani\",\"nagadurga\")"
   ]
  },
  {
   "cell_type": "code",
   "execution_count": 9,
   "id": "fbd41f06",
   "metadata": {},
   "outputs": [
    {
     "data": {
      "text/plain": [
       "('baburao', 'dhanalkshmi', 'srinivas', 'sravani', 'nagadurga')"
      ]
     },
     "execution_count": 9,
     "metadata": {},
     "output_type": "execute_result"
    }
   ],
   "source": [
    "family"
   ]
  },
  {
   "cell_type": "code",
   "execution_count": 15,
   "id": "b1a80256",
   "metadata": {},
   "outputs": [
    {
     "data": {
      "text/plain": [
       "('baburao', 'dhanalkshmi', 'srinivas', 'sravani')"
      ]
     },
     "execution_count": 15,
     "metadata": {},
     "output_type": "execute_result"
    }
   ],
   "source": [
    "family[0:4]"
   ]
  },
  {
   "cell_type": "code",
   "execution_count": 18,
   "id": "1c0fa955",
   "metadata": {},
   "outputs": [],
   "source": [
    "sett_1={\"jan\",\"feb\",\"mar\",\"apr\",\"may\",\"jun\",\"jul\",\"aug\",\"sep\"}"
   ]
  },
  {
   "cell_type": "code",
   "execution_count": 19,
   "id": "9bbf5fcb",
   "metadata": {},
   "outputs": [
    {
     "data": {
      "text/plain": [
       "{'apr', 'aug', 'feb', 'jan', 'jul', 'jun', 'mar', 'may', 'sep'}"
      ]
     },
     "execution_count": 19,
     "metadata": {},
     "output_type": "execute_result"
    }
   ],
   "source": [
    "sett_1"
   ]
  },
  {
   "cell_type": "code",
   "execution_count": 21,
   "id": "fdf34254",
   "metadata": {},
   "outputs": [],
   "source": [
    "month_names=[1,9,10,5,3,2,7,8,6,4]"
   ]
  },
  {
   "cell_type": "code",
   "execution_count": 22,
   "id": "b85e7bdb",
   "metadata": {},
   "outputs": [
    {
     "data": {
      "text/plain": [
       "[1, 9, 10, 5, 3, 2, 7, 8, 6, 4]"
      ]
     },
     "execution_count": 22,
     "metadata": {},
     "output_type": "execute_result"
    }
   ],
   "source": [
    "month_names"
   ]
  },
  {
   "cell_type": "code",
   "execution_count": 23,
   "id": "73b7327c",
   "metadata": {},
   "outputs": [],
   "source": [
    "seq_set=set(month_names)"
   ]
  },
  {
   "cell_type": "code",
   "execution_count": 24,
   "id": "df8844a8",
   "metadata": {},
   "outputs": [
    {
     "data": {
      "text/plain": [
       "{1, 2, 3, 4, 5, 6, 7, 8, 9, 10}"
      ]
     },
     "execution_count": 24,
     "metadata": {},
     "output_type": "execute_result"
    }
   ],
   "source": [
    "seq_set"
   ]
  },
  {
   "cell_type": "code",
   "execution_count": 25,
   "id": "518e2d01",
   "metadata": {},
   "outputs": [],
   "source": [
    "tollywood_heros=[\"chiru\",\"nag\",\"ntr\",\"balayya\",\"venky\"]"
   ]
  },
  {
   "cell_type": "code",
   "execution_count": 26,
   "id": "b62b1644",
   "metadata": {},
   "outputs": [
    {
     "data": {
      "text/plain": [
       "['chiru', 'nag', 'ntr', 'balayya', 'venky']"
      ]
     },
     "execution_count": 26,
     "metadata": {},
     "output_type": "execute_result"
    }
   ],
   "source": [
    "tollywood_heros"
   ]
  },
  {
   "cell_type": "code",
   "execution_count": 27,
   "id": "9910b734",
   "metadata": {},
   "outputs": [],
   "source": [
    "tollywood_heros[0:5]=[\"chiranjeevi\",\"nagarjuna\",\"tharaka_ramarao\",\"balakrishna\",\"venkatesh\"]"
   ]
  },
  {
   "cell_type": "code",
   "execution_count": 28,
   "id": "0a51e67e",
   "metadata": {},
   "outputs": [
    {
     "data": {
      "text/plain": [
       "['chiranjeevi', 'nagarjuna', 'tharaka_ramarao', 'balakrishna', 'venkatesh']"
      ]
     },
     "execution_count": 28,
     "metadata": {},
     "output_type": "execute_result"
    }
   ],
   "source": [
    "tollywood_heros"
   ]
  },
  {
   "cell_type": "code",
   "execution_count": 29,
   "id": "8729a7df",
   "metadata": {},
   "outputs": [],
   "source": [
    "bollywood_heros ={'sharukhan','salmankhan','salmankhan','amirkhan','hrithikroshan','amitab bachan','akshaykumar','amirkhan'}"
   ]
  },
  {
   "cell_type": "code",
   "execution_count": 30,
   "id": "fface8b8",
   "metadata": {},
   "outputs": [
    {
     "data": {
      "text/plain": [
       "{'akshaykumar',\n",
       " 'amirkhan',\n",
       " 'amitab bachan',\n",
       " 'hrithikroshan',\n",
       " 'salmankhan',\n",
       " 'sharukhan'}"
      ]
     },
     "execution_count": 30,
     "metadata": {},
     "output_type": "execute_result"
    }
   ],
   "source": [
    "bollywood_heros"
   ]
  },
  {
   "cell_type": "code",
   "execution_count": 31,
   "id": "7bef7db1",
   "metadata": {},
   "outputs": [],
   "source": [
    "favourite_breakfast=[\"edly\",\"dosa\",\"parota\",\"eggdosa\",\"upma\",\"puri\",\"garu\"]"
   ]
  },
  {
   "cell_type": "code",
   "execution_count": 32,
   "id": "05db12f7",
   "metadata": {},
   "outputs": [
    {
     "data": {
      "text/plain": [
       "['edly', 'dosa', 'parota', 'eggdosa', 'upma', 'puri', 'garu']"
      ]
     },
     "execution_count": 32,
     "metadata": {},
     "output_type": "execute_result"
    }
   ],
   "source": [
    "favourite_breakfast"
   ]
  },
  {
   "cell_type": "code",
   "execution_count": 33,
   "id": "c965d781",
   "metadata": {},
   "outputs": [
    {
     "name": "stdout",
     "output_type": "stream",
     "text": [
      "my favourite breakfast item is eggdosa\n"
     ]
    }
   ],
   "source": [
    "print(\"my favourite breakfast item is\",favourite_breakfast[3])"
   ]
  },
  {
   "cell_type": "code",
   "execution_count": null,
   "id": "e58846af",
   "metadata": {},
   "outputs": [],
   "source": []
  },
  {
   "cell_type": "code",
   "execution_count": null,
   "id": "7147591d",
   "metadata": {},
   "outputs": [],
   "source": []
  },
  {
   "cell_type": "code",
   "execution_count": null,
   "id": "e9a7a552",
   "metadata": {},
   "outputs": [],
   "source": []
  },
  {
   "cell_type": "code",
   "execution_count": null,
   "id": "7d92efed",
   "metadata": {},
   "outputs": [],
   "source": []
  },
  {
   "cell_type": "code",
   "execution_count": null,
   "id": "277aa8c8",
   "metadata": {},
   "outputs": [],
   "source": []
  },
  {
   "cell_type": "code",
   "execution_count": null,
   "id": "b46c3d23",
   "metadata": {},
   "outputs": [],
   "source": []
  },
  {
   "cell_type": "code",
   "execution_count": null,
   "id": "fe24eb80",
   "metadata": {},
   "outputs": [],
   "source": []
  }
 ],
 "metadata": {
  "kernelspec": {
   "display_name": "Python 3 (ipykernel)",
   "language": "python",
   "name": "python3"
  },
  "language_info": {
   "codemirror_mode": {
    "name": "ipython",
    "version": 3
   },
   "file_extension": ".py",
   "mimetype": "text/x-python",
   "name": "python",
   "nbconvert_exporter": "python",
   "pygments_lexer": "ipython3",
   "version": "3.10.9"
  }
 },
 "nbformat": 4,
 "nbformat_minor": 5
}
