{
 "cells": [
  {
   "cell_type": "code",
   "execution_count": 26,
   "id": "2e1edc9c",
   "metadata": {},
   "outputs": [
    {
     "name": "stdout",
     "output_type": "stream",
     "text": [
      "relaince mart discount 40%\n"
     ]
    }
   ],
   "source": [
    "productA_discount=40\n",
    "relaincemart_discount=40\n",
    "jiomart_discount=30\n",
    "if relaincemart_discount>jiomart_discount:\n",
    "    print('relaince mart discount',\"40%\")\n",
    "else:\n",
    "    print('jiomart discout','39%')"
   ]
  },
  {
   "cell_type": "code",
   "execution_count": 25,
   "id": "5db13640",
   "metadata": {},
   "outputs": [
    {
     "name": "stdout",
     "output_type": "stream",
     "text": [
      "when productA buying in relaincemart then 50% discount\n"
     ]
    }
   ],
   "source": [
    "productB_discount=50\n",
    "relaincemart_discount=50\n",
    "jiomart_discount=0\n",
    "if relaincemart_discount>jiomart_discount:\n",
    "    print('when productA buying in relaincemart','then 50% discount')\n",
    "else:\n",
    "    print('when productA not buying in jiomart','then 0% discount')\n",
    "    "
   ]
  },
  {
   "cell_type": "code",
   "execution_count": 27,
   "id": "91f5e672",
   "metadata": {},
   "outputs": [
    {
     "name": "stdout",
     "output_type": "stream",
     "text": [
      "when productA,B buying in relaincemart then 50% discount\n"
     ]
    }
   ],
   "source": [
    "\n",
    "productC_discount=50\n",
    "relaincemart_discount=50\n",
    "jiomart_discount=0\n",
    "if relaincemart_discount>jiomart_discount:\n",
    "    print('when productA,B buying in relaincemart','then 50% discount')\n",
    "else:\n",
    "    print('when productA,B not buying in jiomart','then 0% discount')\n",
    "    "
   ]
  },
  {
   "cell_type": "code",
   "execution_count": 28,
   "id": "38f69d4f",
   "metadata": {},
   "outputs": [
    {
     "name": "stdout",
     "output_type": "stream",
     "text": [
      "when productA,B,C buying in relaincemart then 50% discount\n"
     ]
    }
   ],
   "source": [
    "\n",
    "productD_discount=50\n",
    "relaincemart_discount=50\n",
    "jiomart_discount=0\n",
    "if relaincemart_discount>jiomart_discount:\n",
    "    print('when productA,B,C buying in relaincemart','then 50% discount')\n",
    "else:\n",
    "    print('when productA,B,C not buying in jiomart','then 0% discount')\n",
    "    "
   ]
  },
  {
   "cell_type": "code",
   "execution_count": null,
   "id": "b928c9ce",
   "metadata": {},
   "outputs": [],
   "source": [
    "SC1\n",
    "product-a\n",
    "mart='jio'\n"
   ]
  },
  {
   "cell_type": "code",
   "execution_count": 2,
   "id": "f9145243",
   "metadata": {},
   "outputs": [
    {
     "ename": "SyntaxError",
     "evalue": "invalid syntax (335888047.py, line 17)",
     "output_type": "error",
     "traceback": [
      "\u001b[1;36m  Cell \u001b[1;32mIn[2], line 17\u001b[1;36m\u001b[0m\n\u001b[1;33m    elif mart=='relaince':\u001b[0m\n\u001b[1;37m    ^\u001b[0m\n\u001b[1;31mSyntaxError\u001b[0m\u001b[1;31m:\u001b[0m invalid syntax\n"
     ]
    }
   ],
   "source": [
    "product='a'\n",
    "mart='jio'\n",
    "def discount(product,mart):\n",
    "    if product=='a':\n",
    "        if mart=='jio':\n",
    "            print('discount 30%')\n",
    "        elif mart=='relaince':\n",
    "            print('discount 40%')\n",
    "        else:\n",
    "            print('discount 0')\n",
    "    elif product=='b':\n",
    "        if mart=='jio':\n",
    "            if existingproduct[0]=='a':\n",
    "                print('discount is 50%')\n",
    "        else:\n",
    "            print('discount 0%')\n",
    "        elif mart=='relaince':\n",
    "            if existingproduct[0]=='a':\n",
    "                print('discount is 50%')\n",
    "            else:\n",
    "                print('discount 0%')\n",
    "        else:\n",
    "            print('discount 0%')\n",
    "    elif product=='c':\n",
    "        if mart=='jio':\n",
    "            if existingproduct[0]=='a' and existingproduct[1]=='b':\n",
    "                print('discount is 50%')\n",
    "        else:\n",
    "            print('discount 0%')\n",
    "        elif mart=='relaince':\n",
    "            if existingproduct[0]=='a' and existingproduct[1]=='b':\n",
    "                print('discount is 50%')\n",
    "            else:\n",
    "                print('discount 0%')\n",
    "        else:\n",
    "            print('discount 0%')\n",
    "    elif product=='d':\n",
    "        if mart=='jio':\n",
    "            if existingproduct[0]=='a' and existingproduct[1]=='b' and existingproduct[2]=='c':\n",
    "                print('discount is 50%')\n",
    "            else:\n",
    "                print('discount 0%')\n",
    "    elif mart=='relaince':\n",
    "        if existingproduct[0]=='a' and existingproduct[1]=='b' and existingproduct[2]=='c':\n",
    "            print('discount is 50%')\n",
    "        else:\n",
    "            print('discount 0%')\n",
    "    else:\n",
    "        print('discount 0%')\n",
    "        \n",
    "    return discount\n",
    "        \n",
    "        \n",
    "    \n"
   ]
  },
  {
   "cell_type": "code",
   "execution_count": 3,
   "id": "44712b1b",
   "metadata": {},
   "outputs": [
    {
     "ename": "SyntaxError",
     "evalue": "invalid syntax (4058451293.py, line 1)",
     "output_type": "error",
     "traceback": [
      "\u001b[1;36m  Cell \u001b[1;32mIn[3], line 1\u001b[1;36m\u001b[0m\n\u001b[1;33m    relaince discount(a,jio)\u001b[0m\n\u001b[1;37m             ^\u001b[0m\n\u001b[1;31mSyntaxError\u001b[0m\u001b[1;31m:\u001b[0m invalid syntax\n"
     ]
    }
   ],
   "source": [
    "relaince discount(a,jio)"
   ]
  },
  {
   "cell_type": "code",
   "execution_count": null,
   "id": "189b8973",
   "metadata": {},
   "outputs": [],
   "source": []
  },
  {
   "cell_type": "code",
   "execution_count": null,
   "id": "ed7b0d3d",
   "metadata": {},
   "outputs": [],
   "source": []
  },
  {
   "cell_type": "code",
   "execution_count": null,
   "id": "fe2023ba",
   "metadata": {},
   "outputs": [],
   "source": []
  }
 ],
 "metadata": {
  "kernelspec": {
   "display_name": "Python 3 (ipykernel)",
   "language": "python",
   "name": "python3"
  },
  "language_info": {
   "codemirror_mode": {
    "name": "ipython",
    "version": 3
   },
   "file_extension": ".py",
   "mimetype": "text/x-python",
   "name": "python",
   "nbconvert_exporter": "python",
   "pygments_lexer": "ipython3",
   "version": "3.10.9"
  }
 },
 "nbformat": 4,
 "nbformat_minor": 5
}
