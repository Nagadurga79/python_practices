{
 "cells": [
  {
   "cell_type": "code",
   "execution_count": 1,
   "id": "24b8bcb3",
   "metadata": {},
   "outputs": [
    {
     "name": "stdout",
     "output_type": "stream",
     "text": [
      "name nagadurga\n"
     ]
    }
   ],
   "source": [
    "name='nagadurga'\n",
    "print('name',name)"
   ]
  },
  {
   "cell_type": "code",
   "execution_count": 2,
   "id": "fb4eec02",
   "metadata": {},
   "outputs": [
    {
     "name": "stdout",
     "output_type": "stream",
     "text": [
      "age 22\n"
     ]
    }
   ],
   "source": [
    "age=22\n",
    "print('age',age)"
   ]
  },
  {
   "cell_type": "code",
   "execution_count": null,
   "id": "a11c4a08",
   "metadata": {},
   "outputs": [],
   "source": []
  },
  {
   "cell_type": "code",
   "execution_count": null,
   "id": "bddc5456",
   "metadata": {},
   "outputs": [],
   "source": []
  }
 ],
 "metadata": {
  "kernelspec": {
   "display_name": "Python 3 (ipykernel)",
   "language": "python",
   "name": "python3"
  },
  "language_info": {
   "codemirror_mode": {
    "name": "ipython",
    "version": 3
   },
   "file_extension": ".py",
   "mimetype": "text/x-python",
   "name": "python",
   "nbconvert_exporter": "python",
   "pygments_lexer": "ipython3",
   "version": "3.10.9"
  }
 },
 "nbformat": 4,
 "nbformat_minor": 5
}
