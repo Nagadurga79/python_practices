{
 "cells": [
  {
   "cell_type": "code",
   "execution_count": 2,
   "id": "60edb4cb",
   "metadata": {},
   "outputs": [
    {
     "name": "stdout",
     "output_type": "stream",
     "text": [
      "this is my name nagadurga\n"
     ]
    }
   ],
   "source": [
    "name='nagadurga'\n",
    "print('this is my name',name)"
   ]
  },
  {
   "cell_type": "code",
   "execution_count": 3,
   "id": "4fb70e1d",
   "metadata": {},
   "outputs": [
    {
     "name": "stdout",
     "output_type": "stream",
     "text": [
      "my location gilakaladindi,machilipatnam\n"
     ]
    }
   ],
   "source": [
    "location='gilakaladindi,machilipatnam'\n",
    "print('my location',location)"
   ]
  },
  {
   "cell_type": "code",
   "execution_count": 4,
   "id": "7713cf78",
   "metadata": {},
   "outputs": [
    {
     "name": "stdout",
     "output_type": "stream",
     "text": [
      "my qualification bsc,mecs\n"
     ]
    }
   ],
   "source": [
    "qualification='bsc,mecs'\n",
    "print('my qualification',qualification)"
   ]
  },
  {
   "cell_type": "code",
   "execution_count": 5,
   "id": "477d0a54",
   "metadata": {},
   "outputs": [
    {
     "name": "stdout",
     "output_type": "stream",
     "text": [
      "age 22\n"
     ]
    }
   ],
   "source": [
    "age=22\n",
    "print('age',age)"
   ]
  },
  {
   "cell_type": "code",
   "execution_count": 7,
   "id": "3a224ea5",
   "metadata": {},
   "outputs": [
    {
     "name": "stdout",
     "output_type": "stream",
     "text": [
      "my hobbies watching tv\n"
     ]
    }
   ],
   "source": [
    "hobbies='watching tv'\n",
    "print('my hobbies',hobbies)"
   ]
  }
 ],
 "metadata": {
  "kernelspec": {
   "display_name": "Python 3 (ipykernel)",
   "language": "python",
   "name": "python3"
  },
  "language_info": {
   "codemirror_mode": {
    "name": "ipython",
    "version": 3
   },
   "file_extension": ".py",
   "mimetype": "text/x-python",
   "name": "python",
   "nbconvert_exporter": "python",
   "pygments_lexer": "ipython3",
   "version": "3.10.9"
  }
 },
 "nbformat": 4,
 "nbformat_minor": 5
}
