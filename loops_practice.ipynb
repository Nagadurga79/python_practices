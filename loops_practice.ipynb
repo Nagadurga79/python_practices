{
 "cells": [
  {
   "cell_type": "code",
   "execution_count": 2,
   "id": "d622b1a7",
   "metadata": {},
   "outputs": [
    {
     "name": "stdout",
     "output_type": "stream",
     "text": [
      "vani\n",
      "ayesha\n",
      "siddika\n",
      "anusha\n",
      "akhila\n",
      "supraja\n",
      "anitha\n",
      "divya\n",
      "syamasri\n",
      "manasa\n"
     ]
    }
   ],
   "source": [
    "lst=['vani','ayesha','siddika','anusha','akhila','supraja','anitha','divya','syamasri','manasa'] \n",
    "for p in lst:\n",
    "    print(p)"
   ]
  },
  {
   "cell_type": "code",
   "execution_count": 3,
   "id": "e8271dcb",
   "metadata": {},
   "outputs": [
    {
     "name": "stdout",
     "output_type": "stream",
     "text": [
      "biryani\n",
      "friedrice\n",
      "eggmasala\n",
      "panipuri\n",
      "mushroomcuryy\n",
      "butternon\n",
      "chapthi\n",
      "eggdosa\n"
     ]
    }
   ],
   "source": [
    "tup=('biryani','friedrice','eggmasala','panipuri','mushroomcuryy','butternon','chapthi','eggdosa')\n",
    "for x in tup:\n",
    "    print(x)"
   ]
  },
  {
   "cell_type": "code",
   "execution_count": 4,
   "id": "d12320b2",
   "metadata": {},
   "outputs": [
    {
     "name": "stdout",
     "output_type": "stream",
     "text": [
      "yellow\n",
      "red\n",
      "black\n",
      "blue\n",
      "orange\n",
      "white\n",
      "green\n",
      "pink\n"
     ]
    }
   ],
   "source": [
    "set={'black','blue','red','yellow','white','orange','pink','green'}\n",
    "for y in set:\n",
    "    print(y)"
   ]
  },
  {
   "cell_type": "code",
   "execution_count": 6,
   "id": "c8152770",
   "metadata": {},
   "outputs": [
    {
     "name": "stdout",
     "output_type": "stream",
     "text": [
      "colours\n",
      "things\n"
     ]
    }
   ],
   "source": [
    "dictt={'colours':['black','red','yellow','green','white'],'things':['chair','table','pen','remote','powerbank']}\n",
    "for p in dictt:\n",
    "    print(p)"
   ]
  },
  {
   "cell_type": "code",
   "execution_count": 7,
   "id": "b8385bb2",
   "metadata": {},
   "outputs": [
    {
     "name": "stdout",
     "output_type": "stream",
     "text": [
      "black\n",
      "red\n",
      "yellow\n",
      "green\n",
      "white\n"
     ]
    }
   ],
   "source": [
    "dictt={'colours':['black','red','yellow','green','white'],'things':['chair','table','pen','remote','powerbank']}\n",
    "for p in dictt['colours']:\n",
    "    print(p)\n"
   ]
  },
  {
   "cell_type": "code",
   "execution_count": 19,
   "id": "53b078c6",
   "metadata": {},
   "outputs": [
    {
     "name": "stdout",
     "output_type": "stream",
     "text": [
      "black\n",
      "red\n",
      "yellow\n",
      "green\n",
      "white\n",
      "chair\n",
      "table\n",
      "pen\n",
      "remote\n",
      "powerbank\n"
     ]
    }
   ],
   "source": [
    "dictt={'colours':['black','red','yellow','green','white'],'things':['chair','table','pen','remote','powerbank']}\n",
    "for p in dictt['colours']:\n",
    "    print(p)   \n",
    "for p in dictt['things']:\n",
    "    print(p)"
   ]
  },
  {
   "cell_type": "code",
   "execution_count": 20,
   "id": "8d27969d",
   "metadata": {
    "scrolled": true
   },
   "outputs": [
    {
     "name": "stdout",
     "output_type": "stream",
     "text": [
      "colours\n",
      "things\n",
      "things\n",
      "things\n",
      "things\n",
      "things\n",
      "things\n"
     ]
    }
   ],
   "source": [
    "dictt={'colours':['black','red','yellow','green','white'],'things':['chair','table','pen','remote','powerbank']}\n",
    "for p in dictt:\n",
    "    print(p)\n",
    "for j in dictt[p]:\n",
    "    print(p)"
   ]
  },
  {
   "cell_type": "code",
   "execution_count": 22,
   "id": "737b8617",
   "metadata": {},
   "outputs": [
    {
     "name": "stdout",
     "output_type": "stream",
     "text": [
      "colours\n",
      "colours\n",
      "colours\n",
      "colours\n",
      "colours\n",
      "colours\n",
      "things\n",
      "things\n",
      "things\n",
      "things\n",
      "things\n",
      "things\n"
     ]
    }
   ],
   "source": [
    "dictt={'colours':['black','red','yellow','green','white'],'things':['chair','table','pen','remote','powerbank']}\n",
    "for p in dictt:\n",
    "    print(p)\n",
    "    for j in dictt[p]:\n",
    "        print(p)"
   ]
  },
  {
   "cell_type": "code",
   "execution_count": null,
   "id": "9e97bdf4",
   "metadata": {},
   "outputs": [],
   "source": []
  }
 ],
 "metadata": {
  "kernelspec": {
   "display_name": "Python 3 (ipykernel)",
   "language": "python",
   "name": "python3"
  },
  "language_info": {
   "codemirror_mode": {
    "name": "ipython",
    "version": 3
   },
   "file_extension": ".py",
   "mimetype": "text/x-python",
   "name": "python",
   "nbconvert_exporter": "python",
   "pygments_lexer": "ipython3",
   "version": "3.10.9"
  }
 },
 "nbformat": 4,
 "nbformat_minor": 5
}
